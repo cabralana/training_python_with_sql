{
  "nbformat": 4,
  "nbformat_minor": 0,
  "metadata": {
    "colab": {
      "provenance": [],
      "collapsed_sections": [
        "pkvNPv49UY8_",
        "adG9AJ0bU5mv",
        "GspNU5mqfER4",
        "8ro7rlOegcpQ",
        "0CsD_RDHKU54",
        "T0Z4mTIiLptY",
        "bz4olD7DMq65",
        "ibBBr5_uNv9G",
        "JFgs-uE1Oi-9",
        "NCKTjQ_PPEK9",
        "nVl9C_XPSD53",
        "Z-nU7xQBUJOM",
        "6XpgfkxHWazj",
        "sRZRDnu2W6IO",
        "wfrXjUUCXO3d",
        "BY1BjXf0sE-b",
        "BNeLY0eNuWRY",
        "yg-PRjSVyH-Z"
      ],
      "authorship_tag": "ABX9TyM5eNsChTWZv8i75tcA56M9",
      "include_colab_link": true
    },
    "kernelspec": {
      "name": "python3",
      "display_name": "Python 3"
    },
    "language_info": {
      "name": "python"
    }
  },
  "cells": [
    {
      "cell_type": "markdown",
      "metadata": {
        "id": "view-in-github",
        "colab_type": "text"
      },
      "source": [
        "<a href=\"https://colab.research.google.com/github/cabralana/training_python_with_sql/blob/main/3.Training_Python_with_SQL.ipynb\" target=\"_parent\"><img src=\"https://colab.research.google.com/assets/colab-badge.svg\" alt=\"Open In Colab\"/></a>"
      ]
    },
    {
      "cell_type": "markdown",
      "source": [
        "###**SQL - Revisão de Conhecimentos**\n",
        "\n",
        "Eu tive como base, neste estudo, a orientação do Odemir Depieri e Ronisson Lucas da equipe @DataViking\n",
        "\n",
        "Fui elaborando o passo a passo do material deles, para que, assim, pudesse fixar melhor as instruções SQL. \n",
        "Mudei algumas instruções para melhor fixação. "
      ],
      "metadata": {
        "id": "THAZIeCAgTM5"
      }
    },
    {
      "cell_type": "markdown",
      "source": [
        "### IMPORTAR **SQL** NO GOOGLE COLAB"
      ],
      "metadata": {
        "id": "c-8o1pkZSprx"
      }
    },
    {
      "cell_type": "code",
      "execution_count": null,
      "metadata": {
        "id": "ClBHNOStKfKY"
      },
      "outputs": [],
      "source": [
        "import sqlite3"
      ]
    },
    {
      "cell_type": "code",
      "source": [
        "#Python Version\n",
        "from platform import python_version\n",
        "\n",
        "print(python_version())"
      ],
      "metadata": {
        "colab": {
          "base_uri": "https://localhost:8080/"
        },
        "id": "r8z0JAkUK1BU",
        "outputId": "bdb4c490-3d92-4a9c-97db-0159879a5c14"
      },
      "execution_count": null,
      "outputs": [
        {
          "output_type": "stream",
          "name": "stdout",
          "text": [
            "3.7.15\n"
          ]
        }
      ]
    },
    {
      "cell_type": "markdown",
      "source": [
        "#Criação BD"
      ],
      "metadata": {
        "id": "CwY2IFyOTLwS"
      }
    },
    {
      "cell_type": "code",
      "source": [
        "Conexao = sqlite3.connect('Banco_Dados')"
      ],
      "metadata": {
        "id": "8bhPGMvlK4ca"
      },
      "execution_count": null,
      "outputs": []
    },
    {
      "cell_type": "markdown",
      "source": [
        "#Apontar para o BD"
      ],
      "metadata": {
        "id": "PYLIcxGDTPYH"
      }
    },
    {
      "cell_type": "code",
      "source": [
        "Cursor = Conexao.cursor()"
      ],
      "metadata": {
        "id": "956QpUhPK9pU"
      },
      "execution_count": null,
      "outputs": []
    },
    {
      "cell_type": "markdown",
      "source": [
        "###CRIAR TABELA **(CREATE TABLE)**\n",
        "\n",
        "CREATE TABLE table_name(column1 datatype, column2 datatype, column3 datatype, ...)"
      ],
      "metadata": {
        "id": "JiQCB069TU5w"
      }
    },
    {
      "cell_type": "code",
      "source": [
        "Cursor.execute(\n",
        "    'CREATE TABLE Minha_Primeira_Tabela (Nome text, Data text, Idade real)'\n",
        ")\n",
        "Conexao.commit()"
      ],
      "metadata": {
        "id": "Eu_Lek30LEaD"
      },
      "execution_count": null,
      "outputs": []
    },
    {
      "cell_type": "markdown",
      "source": [
        "###INSERIR REGISTROS NA TABELA **(INSERT INTO)**\n",
        "\n",
        "INSERT INTO table_name(column1, column2, column3, ...)"
      ],
      "metadata": {
        "id": "owkrR1eKT87H"
      }
    },
    {
      "cell_type": "code",
      "source": [
        "Cursor.execute('INSERT INTO Minha_Primeira_Tabela VALUES (\"Ana Paula\", \"30/09/1993\", \"29\")')"
      ],
      "metadata": {
        "colab": {
          "base_uri": "https://localhost:8080/"
        },
        "id": "HVV-BBE-LVaE",
        "outputId": "ab8a8f30-1a57-4bc1-8264-af61892ce03d"
      },
      "execution_count": null,
      "outputs": [
        {
          "output_type": "execute_result",
          "data": {
            "text/plain": [
              "<sqlite3.Cursor at 0x7fb33d889f80>"
            ]
          },
          "metadata": {},
          "execution_count": 7
        }
      ]
    },
    {
      "cell_type": "code",
      "source": [
        "Cursor.execute('INSERT INTO Minha_Primeira_Tabela VALUES (\"Priscila\", \"26/11/1992\", \"30\")')"
      ],
      "metadata": {
        "colab": {
          "base_uri": "https://localhost:8080/"
        },
        "id": "xDnRl9lmLrOC",
        "outputId": "ef8bb58d-6fa4-4bf5-d659-f8a1eaf0d55d"
      },
      "execution_count": null,
      "outputs": [
        {
          "output_type": "execute_result",
          "data": {
            "text/plain": [
              "<sqlite3.Cursor at 0x7fb33d889f80>"
            ]
          },
          "metadata": {},
          "execution_count": 8
        }
      ]
    },
    {
      "cell_type": "code",
      "source": [
        "#Importando números aleatórios\n",
        "import random "
      ],
      "metadata": {
        "id": "ArNw5MszL1Rp"
      },
      "execution_count": null,
      "outputs": []
    },
    {
      "cell_type": "code",
      "source": [
        "\n",
        "for Loop in range(10):\n",
        "  \n",
        "\n",
        "  Numero = random.randint(10, 20)\n",
        " \n",
        "  Cursor.execute( f' INSERT INTO Minha_Primeira_Tabela VALUES ( \"26/11/1992\", \"Priscila\", {Numero} ) ')"
      ],
      "metadata": {
        "id": "AWoasv02Oz7D"
      },
      "execution_count": null,
      "outputs": []
    },
    {
      "cell_type": "markdown",
      "source": [
        "###SELECIONAR DADOS EM UM BD **(SELECT)**"
      ],
      "metadata": {
        "id": "pkvNPv49UY8_"
      }
    },
    {
      "cell_type": "code",
      "source": [
        "#Consulta com SELECT * - todos os registros da tabela\n",
        "Consulta = Cursor.execute('SELECT * FROM Minha_Primeira_Tabela').fetchall()\n",
        "print (Consulta)"
      ],
      "metadata": {
        "colab": {
          "base_uri": "https://localhost:8080/"
        },
        "id": "dPfVmlQsPALR",
        "outputId": "be27d972-1421-410c-a64b-e6d2975c7b62"
      },
      "execution_count": null,
      "outputs": [
        {
          "output_type": "stream",
          "name": "stdout",
          "text": [
            "[('Ana Paula', '30/09/1993', 29.0), ('Priscila', '26/11/1992', 30.0), ('26/11/1992', 'Priscila', 13.0), ('26/11/1992', 'Priscila', 20.0), ('26/11/1992', 'Priscila', 14.0), ('26/11/1992', 'Priscila', 14.0), ('26/11/1992', 'Priscila', 18.0), ('26/11/1992', 'Priscila', 19.0), ('26/11/1992', 'Priscila', 13.0), ('26/11/1992', 'Priscila', 20.0), ('26/11/1992', 'Priscila', 19.0), ('26/11/1992', 'Priscila', 11.0)]\n"
          ]
        }
      ]
    },
    {
      "cell_type": "code",
      "source": [
        "#Consulta com SELECT columns1, columns2, columns3... - registros específicos\n",
        "Consulta = Cursor.execute('SELECT Nome, Data, Idade FROM Minha_Primeira_Tabela').fetchall()\n",
        "\n",
        "for Linha in Consulta: \n",
        "  print(Linha)"
      ],
      "metadata": {
        "colab": {
          "base_uri": "https://localhost:8080/"
        },
        "id": "lWKCIg_gPVXB",
        "outputId": "419ac7d3-df31-46be-e5d8-08fddd40bd72"
      },
      "execution_count": null,
      "outputs": [
        {
          "output_type": "stream",
          "name": "stdout",
          "text": [
            "('Ana Paula', '30/09/1993', 29.0)\n",
            "('Priscila', '26/11/1992', 30.0)\n",
            "('26/11/1992', 'Priscila', 13.0)\n",
            "('26/11/1992', 'Priscila', 20.0)\n",
            "('26/11/1992', 'Priscila', 14.0)\n",
            "('26/11/1992', 'Priscila', 14.0)\n",
            "('26/11/1992', 'Priscila', 18.0)\n",
            "('26/11/1992', 'Priscila', 19.0)\n",
            "('26/11/1992', 'Priscila', 13.0)\n",
            "('26/11/1992', 'Priscila', 20.0)\n",
            "('26/11/1992', 'Priscila', 19.0)\n",
            "('26/11/1992', 'Priscila', 11.0)\n"
          ]
        }
      ]
    },
    {
      "cell_type": "markdown",
      "source": [
        "###FILTRAR REGISTROS **(WHERE)**\n",
        "\n",
        "SELECT column1 FROM table_name WHERE condition;\n",
        "\n"
      ],
      "metadata": {
        "id": "adG9AJ0bU5mv"
      }
    },
    {
      "cell_type": "code",
      "source": [
        "Consulta = Cursor.execute(\n",
        "    '''\n",
        "    SELECT * FROM Minha_Primeira_Tabela\n",
        "    WHERE Idade = '29'\n",
        "    '''\n",
        ").fetchall()\n",
        "print(Consulta)"
      ],
      "metadata": {
        "colab": {
          "base_uri": "https://localhost:8080/"
        },
        "id": "0pMvRAmMVQp_",
        "outputId": "fd280d74-f2c1-4c1c-af45-8669457c1dec"
      },
      "execution_count": null,
      "outputs": [
        {
          "output_type": "stream",
          "name": "stdout",
          "text": [
            "[('Ana Paula', '30/09/1993', 29.0)]\n"
          ]
        }
      ]
    },
    {
      "cell_type": "code",
      "source": [
        "Consulta = Cursor.execute(\n",
        "    '''\n",
        "    SELECT * FROM Minha_Primeira_Tabela \n",
        "    WHERE Idade > 23\n",
        "    '''\n",
        ").fetchall()\n",
        "\n",
        "print(Consulta)"
      ],
      "metadata": {
        "colab": {
          "base_uri": "https://localhost:8080/"
        },
        "id": "BWs_OuNZVfJy",
        "outputId": "f533760c-5dc1-4ca5-df47-3eaf513c8d36"
      },
      "execution_count": null,
      "outputs": [
        {
          "output_type": "stream",
          "name": "stdout",
          "text": [
            "[('Ana Paula', '30/09/1993', 29.0), ('Priscila', '26/11/1992', 30.0)]\n"
          ]
        }
      ]
    },
    {
      "cell_type": "code",
      "source": [
        "Consulta = Cursor.execute(\n",
        "    '''\n",
        "    SELECT * FROM Minha_Primeira_Tabela \n",
        "    WHERE Idade < 23\n",
        "    '''\n",
        ").fetchall()\n",
        "\n",
        "print(Consulta)"
      ],
      "metadata": {
        "colab": {
          "base_uri": "https://localhost:8080/"
        },
        "id": "FZ1gmXLYaIb4",
        "outputId": "9acb0c75-bcef-44cd-9361-d4c2ae2cd076"
      },
      "execution_count": null,
      "outputs": [
        {
          "output_type": "stream",
          "name": "stdout",
          "text": [
            "[('26/11/1992', 'Priscila', 13.0), ('26/11/1992', 'Priscila', 20.0), ('26/11/1992', 'Priscila', 14.0), ('26/11/1992', 'Priscila', 14.0), ('26/11/1992', 'Priscila', 18.0), ('26/11/1992', 'Priscila', 19.0), ('26/11/1992', 'Priscila', 13.0), ('26/11/1992', 'Priscila', 20.0), ('26/11/1992', 'Priscila', 19.0), ('26/11/1992', 'Priscila', 11.0)]\n"
          ]
        }
      ]
    },
    {
      "cell_type": "code",
      "source": [
        "Consulta = Cursor.execute(\n",
        "    '''\n",
        "    SELECT * FROM Minha_Primeira_Tabela \n",
        "    WHERE Idade <= 23\n",
        "    '''\n",
        ").fetchall()\n",
        "\n",
        "print(Consulta)"
      ],
      "metadata": {
        "colab": {
          "base_uri": "https://localhost:8080/"
        },
        "id": "PYxOIrtJaPq3",
        "outputId": "ab51b91e-fe20-418f-d982-769381a5cd58"
      },
      "execution_count": null,
      "outputs": [
        {
          "output_type": "stream",
          "name": "stdout",
          "text": [
            "[('26/11/1992', 'Priscila', 13.0), ('26/11/1992', 'Priscila', 20.0), ('26/11/1992', 'Priscila', 14.0), ('26/11/1992', 'Priscila', 14.0), ('26/11/1992', 'Priscila', 18.0), ('26/11/1992', 'Priscila', 19.0), ('26/11/1992', 'Priscila', 13.0), ('26/11/1992', 'Priscila', 20.0), ('26/11/1992', 'Priscila', 19.0), ('26/11/1992', 'Priscila', 11.0)]\n"
          ]
        }
      ]
    },
    {
      "cell_type": "code",
      "source": [
        "Consulta = Cursor.execute(\n",
        "    '''\n",
        "    SELECT * FROM Minha_Primeira_Tabela \n",
        "    WHERE Nome <> 'Ana Paula'\n",
        "    '''\n",
        ").fetchall()\n",
        "\n",
        "for Linha in Consulta:\n",
        "  print( Linha )"
      ],
      "metadata": {
        "colab": {
          "base_uri": "https://localhost:8080/"
        },
        "id": "mezRVc9AaTaf",
        "outputId": "25205035-e091-4e21-9f90-5e245c4f23cf"
      },
      "execution_count": null,
      "outputs": [
        {
          "output_type": "stream",
          "name": "stdout",
          "text": [
            "('Priscila', '26/11/1992', 30.0)\n",
            "('26/11/1992', 'Priscila', 13.0)\n",
            "('26/11/1992', 'Priscila', 20.0)\n",
            "('26/11/1992', 'Priscila', 14.0)\n",
            "('26/11/1992', 'Priscila', 14.0)\n",
            "('26/11/1992', 'Priscila', 18.0)\n",
            "('26/11/1992', 'Priscila', 19.0)\n",
            "('26/11/1992', 'Priscila', 13.0)\n",
            "('26/11/1992', 'Priscila', 20.0)\n",
            "('26/11/1992', 'Priscila', 19.0)\n",
            "('26/11/1992', 'Priscila', 11.0)\n"
          ]
        }
      ]
    },
    {
      "cell_type": "markdown",
      "source": [
        "###SELECIONAR DETERMINADO RANGE DE REGISTROS EM UMA TABELA **(BETWEEN)**"
      ],
      "metadata": {
        "id": "GspNU5mqfER4"
      }
    },
    {
      "cell_type": "code",
      "source": [
        "Consulta = Cursor.execute(\n",
        "    '''\n",
        "    SELECT * FROM Minha_Primeira_Tabela\n",
        "    WHERE Idade BETWEEN 20 AND 30\n",
        "    '''\n",
        ").fetchall()\n",
        "\n",
        "for Linha in Consulta:\n",
        "  print ( Linha )"
      ],
      "metadata": {
        "colab": {
          "base_uri": "https://localhost:8080/"
        },
        "id": "N_qcluUeaYQW",
        "outputId": "90e8a332-c7e1-4477-dc4f-4bb9409d715a"
      },
      "execution_count": null,
      "outputs": [
        {
          "output_type": "stream",
          "name": "stdout",
          "text": [
            "('Ana Paula', '30/09/1993', 29.0)\n",
            "('Priscila', '26/11/1992', 30.0)\n",
            "('26/11/1992', 'Priscila', 20.0)\n",
            "('26/11/1992', 'Priscila', 20.0)\n"
          ]
        }
      ]
    },
    {
      "cell_type": "markdown",
      "source": [
        "###PARA PROCURAR UM PADRÃO ESPECÍFICO EM UMA COLUNA, USA-SE O **(LIKE)** EM UMA WHERE \n",
        "\n",
        "\n",
        "\n",
        "\n",
        "*   % - representa zero, um ou vários caracteres\n",
        "*   _ - um único caractere \n",
        "\n",
        "\n",
        "\n"
      ],
      "metadata": {
        "id": "8ro7rlOegcpQ"
      }
    },
    {
      "cell_type": "code",
      "source": [
        "Consulta = Cursor.execute(\n",
        "  '''\n",
        "  SELECT * FROM Minha_Primeira_Tabela\n",
        "  WHERE Nome LIKE 'A%' \n",
        "  '''\n",
        ").fetchall()\n",
        "\n",
        "for Linha in Consulta:\n",
        "  print(Linha)\n",
        "\n",
        "  #que comece com a letra A"
      ],
      "metadata": {
        "colab": {
          "base_uri": "https://localhost:8080/"
        },
        "id": "ZyZ2wNNGgQDA",
        "outputId": "17016549-b0fa-41a5-c953-caf38ac95317"
      },
      "execution_count": null,
      "outputs": [
        {
          "output_type": "stream",
          "name": "stdout",
          "text": [
            "('Ana Paula', '30/09/1993', 29.0)\n"
          ]
        }
      ]
    },
    {
      "cell_type": "code",
      "source": [
        "Consulta = Cursor.execute(\n",
        "  '''\n",
        "  SELECT * FROM Minha_Primeira_Tabela\n",
        "  WHERE Nome LIKE '%A' \n",
        "  '''\n",
        ").fetchall()\n",
        "\n",
        "for Linha in Consulta:\n",
        "  print(Linha)\n",
        "\n",
        "  #que termine com a letra A\n"
      ],
      "metadata": {
        "colab": {
          "base_uri": "https://localhost:8080/"
        },
        "id": "kqRMX0b2gSHP",
        "outputId": "67e72a01-d771-49ac-9b88-ddad22015c66"
      },
      "execution_count": null,
      "outputs": [
        {
          "output_type": "stream",
          "name": "stdout",
          "text": [
            "('Ana Paula', '30/09/1993', 29.0)\n",
            "('Priscila', '26/11/1992', 30.0)\n"
          ]
        }
      ]
    },
    {
      "cell_type": "code",
      "source": [
        "Consulta = Cursor.execute(\n",
        "  '''\n",
        "  SELECT * FROM Minha_Primeira_Tabela\n",
        "  WHERE Nome LIKE '%scil%' \n",
        "  '''\n",
        ").fetchall()\n",
        "\n",
        "for Linha in Consulta:\n",
        "  print(Linha)\n",
        "\n",
        "  #que tenha o padrão"
      ],
      "metadata": {
        "colab": {
          "base_uri": "https://localhost:8080/"
        },
        "id": "QFKaDhiaKHUN",
        "outputId": "222d861d-e3a0-4f65-e499-b48727bb9390"
      },
      "execution_count": null,
      "outputs": [
        {
          "output_type": "stream",
          "name": "stdout",
          "text": [
            "('Priscila', '26/11/1992', 30.0)\n"
          ]
        }
      ]
    },
    {
      "cell_type": "markdown",
      "source": [
        "###PERMITE ESPECIFICAR VÁRIOS VALORES EM UMA WHERE **(IN)**"
      ],
      "metadata": {
        "id": "0CsD_RDHKU54"
      }
    },
    {
      "cell_type": "code",
      "source": [
        "Consulta = Cursor.execute(\n",
        "    '''\n",
        "    SELECT * FROM Minha_Primeira_Tabela\n",
        "    WHERE Idade IN (15,18,21,24,27,30)\n",
        "    '''\n",
        ").fetchall()\n",
        "\n",
        "for Linha in Consulta:\n",
        "  print(Linha)"
      ],
      "metadata": {
        "colab": {
          "base_uri": "https://localhost:8080/"
        },
        "id": "FnoXqT90KfsK",
        "outputId": "51e63d36-ba34-4f82-b896-3f2a2b84eed8"
      },
      "execution_count": null,
      "outputs": [
        {
          "output_type": "stream",
          "name": "stdout",
          "text": [
            "('Priscila', '26/11/1992', 30.0)\n",
            "('26/11/1992', 'Priscila', 18.0)\n"
          ]
        }
      ]
    },
    {
      "cell_type": "code",
      "source": [
        "Consulta = Cursor.execute(\n",
        "    '''\n",
        "    SELECT * FROM Minha_Primeira_Tabela\n",
        "    WHERE Nome IN (\"Ana Paula\")\n",
        "    '''\n",
        ").fetchall()\n",
        "\n",
        "for Linha in Consulta:\n",
        "  print(Linha)"
      ],
      "metadata": {
        "id": "pVnu_MvRKSeh",
        "colab": {
          "base_uri": "https://localhost:8080/"
        },
        "outputId": "08352e08-ff8c-497b-9252-81774942c4cc"
      },
      "execution_count": null,
      "outputs": [
        {
          "output_type": "stream",
          "name": "stdout",
          "text": [
            "('Ana Paula', '30/09/1993', 29.0)\n"
          ]
        }
      ]
    },
    {
      "cell_type": "markdown",
      "source": [
        "###OS OPERAODRES **AND, OR e NOT** PODEM SER COMBINADOS COM A CLÁUSULA WHERE \n",
        "\n",
        "1. AND - operador exibe registro se todas as condições separadas por AND for TRUE\n",
        "2. OR - exibe um registro se alguma das condições separadas for TRUE\n",
        "3. NOT - exibe registro se a(s) condição(s) não for verdadeira."
      ],
      "metadata": {
        "id": "T0Z4mTIiLptY"
      }
    },
    {
      "cell_type": "code",
      "source": [
        "Consulta = Cursor.execute(\n",
        "    ''' \n",
        "    SELECT * FROM Minha_Primeira_Tabela\n",
        "    WHERE Idade = 29  AND Nome = 'Ana Paula'\n",
        "    '''\n",
        ").fetchall()\n",
        "\n",
        "print( Consulta )"
      ],
      "metadata": {
        "colab": {
          "base_uri": "https://localhost:8080/"
        },
        "id": "lYd323gLLmcw",
        "outputId": "a6eee4b7-19c5-469e-f0fd-7d99d5310e4d"
      },
      "execution_count": null,
      "outputs": [
        {
          "output_type": "stream",
          "name": "stdout",
          "text": [
            "[('Ana Paula', '30/09/1993', 29.0)]\n"
          ]
        }
      ]
    },
    {
      "cell_type": "code",
      "source": [
        "Consulta = Cursor.execute(\n",
        "    ''' \n",
        "    SELECT * FROM Minha_Primeira_Tabela\n",
        "    WHERE Idade = 29 OR Nome = 'Priscila'\n",
        "    '''\n",
        ").fetchall()\n",
        "\n",
        "print( Consulta )"
      ],
      "metadata": {
        "colab": {
          "base_uri": "https://localhost:8080/"
        },
        "id": "b6l-ayPiMOkq",
        "outputId": "d1ee740d-9185-4fec-a7a7-0ec5bf3a7933"
      },
      "execution_count": null,
      "outputs": [
        {
          "output_type": "stream",
          "name": "stdout",
          "text": [
            "[('Ana Paula', '30/09/1993', 29.0), ('Priscila', '26/11/1992', 30.0)]\n"
          ]
        }
      ]
    },
    {
      "cell_type": "code",
      "source": [
        "Consulta = Cursor.execute(\n",
        "    ''' \n",
        "    SELECT * FROM Minha_Primeira_Tabela\n",
        "    WHERE NOT Nome = 'Ana Paula'\n",
        "    '''\n",
        ").fetchall()\n",
        "\n",
        "print( Consulta )"
      ],
      "metadata": {
        "colab": {
          "base_uri": "https://localhost:8080/"
        },
        "id": "kxRYcixYMW9Z",
        "outputId": "3bbce0d3-cae1-4ba6-c8f3-915eaa8984ed"
      },
      "execution_count": null,
      "outputs": [
        {
          "output_type": "stream",
          "name": "stdout",
          "text": [
            "[('Priscila', '26/11/1992', 30.0), ('26/11/1992', 'Priscila', 13.0), ('26/11/1992', 'Priscila', 20.0), ('26/11/1992', 'Priscila', 14.0), ('26/11/1992', 'Priscila', 14.0), ('26/11/1992', 'Priscila', 18.0), ('26/11/1992', 'Priscila', 19.0), ('26/11/1992', 'Priscila', 13.0), ('26/11/1992', 'Priscila', 20.0), ('26/11/1992', 'Priscila', 19.0), ('26/11/1992', 'Priscila', 11.0)]\n"
          ]
        }
      ]
    },
    {
      "cell_type": "code",
      "source": [
        "Consulta = Cursor.execute(\n",
        "    ''' \n",
        "    SELECT * FROM Minha_Primeira_Tabela\n",
        "    WHERE Nome = 'Ana Paula' AND ( Idade > 25 OR Idade < 30 ) AND NOT Idade = 25\n",
        "    '''\n",
        ").fetchall()\n",
        "\n",
        "print( Consulta )"
      ],
      "metadata": {
        "colab": {
          "base_uri": "https://localhost:8080/"
        },
        "id": "I2DKC_nMMdn5",
        "outputId": "adf37460-c5b2-44ca-9a9f-03a753a54be4"
      },
      "execution_count": null,
      "outputs": [
        {
          "output_type": "stream",
          "name": "stdout",
          "text": [
            "[('Ana Paula', '30/09/1993', 29.0)]\n"
          ]
        }
      ]
    },
    {
      "cell_type": "markdown",
      "source": [
        "##CLASSIFICAR O CONJUNTO DE RESULTADOS EM ORDEM CRESCENTE OU DESCRESCENTE (DESC) **(ORDER BY)**"
      ],
      "metadata": {
        "id": "bz4olD7DMq65"
      }
    },
    {
      "cell_type": "code",
      "source": [
        "Consulta = Cursor.execute(\n",
        "    ''' \n",
        "    SELECT * FROM Minha_Primeira_Tabela\n",
        "    ORDER BY Idade, Nome\n",
        "    '''\n",
        ").fetchall()\n",
        "\n",
        "for Linha in Consulta:\n",
        "  print( Linha )"
      ],
      "metadata": {
        "colab": {
          "base_uri": "https://localhost:8080/"
        },
        "id": "28u4kICbM3RR",
        "outputId": "bb3dd3af-5c91-4b98-997c-38e5d6aba977"
      },
      "execution_count": null,
      "outputs": [
        {
          "output_type": "stream",
          "name": "stdout",
          "text": [
            "('26/11/1992', 'Priscila', 11.0)\n",
            "('26/11/1992', 'Priscila', 13.0)\n",
            "('26/11/1992', 'Priscila', 13.0)\n",
            "('26/11/1992', 'Priscila', 14.0)\n",
            "('26/11/1992', 'Priscila', 14.0)\n",
            "('26/11/1992', 'Priscila', 18.0)\n",
            "('26/11/1992', 'Priscila', 19.0)\n",
            "('26/11/1992', 'Priscila', 19.0)\n",
            "('26/11/1992', 'Priscila', 20.0)\n",
            "('26/11/1992', 'Priscila', 20.0)\n",
            "('Ana Paula', '30/09/1993', 29.0)\n",
            "('Priscila', '26/11/1992', 30.0)\n"
          ]
        }
      ]
    },
    {
      "cell_type": "code",
      "source": [
        "Consulta = Cursor.execute(\n",
        "    ''' \n",
        "    SELECT * FROM Minha_Primeira_Tabela\n",
        "    ORDER BY Idade DESC\n",
        "    '''\n",
        ").fetchall()\n",
        "\n",
        "for Linha in Consulta:\n",
        "  print( Linha )"
      ],
      "metadata": {
        "colab": {
          "base_uri": "https://localhost:8080/"
        },
        "id": "ByljG-pwNkjY",
        "outputId": "c0f10769-95d5-49d5-89fc-b195145ccd0d"
      },
      "execution_count": null,
      "outputs": [
        {
          "output_type": "stream",
          "name": "stdout",
          "text": [
            "('Priscila', '26/11/1992', 30.0)\n",
            "('Ana Paula', '30/09/1993', 29.0)\n",
            "('26/11/1992', 'Priscila', 20.0)\n",
            "('26/11/1992', 'Priscila', 20.0)\n",
            "('26/11/1992', 'Priscila', 19.0)\n",
            "('26/11/1992', 'Priscila', 19.0)\n",
            "('26/11/1992', 'Priscila', 18.0)\n",
            "('26/11/1992', 'Priscila', 14.0)\n",
            "('26/11/1992', 'Priscila', 14.0)\n",
            "('26/11/1992', 'Priscila', 13.0)\n",
            "('26/11/1992', 'Priscila', 13.0)\n",
            "('26/11/1992', 'Priscila', 11.0)\n"
          ]
        }
      ]
    },
    {
      "cell_type": "markdown",
      "source": [
        "##VALORES NULOS - CAMPOS NULOS - **(NULL)** \n",
        "\n",
        "OBS: NÃO é possível testar valores **NULL** com operadores de comparação, como = < ou > \n",
        "\n",
        "OPERADORES USADOS:\n",
        "* IS NULL \n",
        "* IS NOT NULL"
      ],
      "metadata": {
        "id": "ibBBr5_uNv9G"
      }
    },
    {
      "cell_type": "code",
      "source": [
        "Cursor.execute('INSERT INTO Minha_Primeira_Tabela VALUES (\"ABC\", null, 30 ) ')\n",
        "Cursor.execute('INSERT INTO Minha_Primeira_Tabela VALUES (\"ABC\", null, null ) ')"
      ],
      "metadata": {
        "colab": {
          "base_uri": "https://localhost:8080/"
        },
        "id": "sUn61btpOFyx",
        "outputId": "3655c5bc-cfc6-4247-f117-349cccd14095"
      },
      "execution_count": null,
      "outputs": [
        {
          "output_type": "execute_result",
          "data": {
            "text/plain": [
              "<sqlite3.Cursor at 0x7fc5b01d9a40>"
            ]
          },
          "metadata": {},
          "execution_count": 29
        }
      ]
    },
    {
      "cell_type": "code",
      "source": [
        "Consulta = Cursor.execute(\n",
        "    ''' \n",
        "    SELECT * FROM Minha_Primeira_Tabela\n",
        "    WHERE Nome IS NULL\n",
        "    '''\n",
        ").fetchall()\n",
        "\n",
        "print( Consulta )\n",
        "\n",
        "#verifica os valores NULOS"
      ],
      "metadata": {
        "colab": {
          "base_uri": "https://localhost:8080/"
        },
        "id": "ByiX9-c_NuKw",
        "outputId": "b271b703-c646-4275-83e5-7d1a591d3590"
      },
      "execution_count": null,
      "outputs": [
        {
          "output_type": "stream",
          "name": "stdout",
          "text": [
            "[]\n"
          ]
        }
      ]
    },
    {
      "cell_type": "code",
      "source": [
        "Consulta = Cursor.execute(\n",
        "    ''' \n",
        "    SELECT * FROM Minha_Primeira_Tabela\n",
        "    WHERE Nome IS NOT NULL\n",
        "    '''\n",
        ").fetchall()\n",
        "\n",
        "print( Consulta )\n",
        "\n",
        "#verifica os valores NÃO NULOS"
      ],
      "metadata": {
        "colab": {
          "base_uri": "https://localhost:8080/"
        },
        "id": "lbuzyItyOOiu",
        "outputId": "d3280a8c-5711-439c-a5af-bab555cc716b"
      },
      "execution_count": null,
      "outputs": [
        {
          "output_type": "stream",
          "name": "stdout",
          "text": [
            "[('Ana Paula', '30/09/1993', 29.0), ('Priscila', '26/11/1992', 30.0), ('26/11/1992', 'Priscila', 13.0), ('26/11/1992', 'Priscila', 20.0), ('26/11/1992', 'Priscila', 14.0), ('26/11/1992', 'Priscila', 14.0), ('26/11/1992', 'Priscila', 18.0), ('26/11/1992', 'Priscila', 19.0), ('26/11/1992', 'Priscila', 13.0), ('26/11/1992', 'Priscila', 20.0), ('26/11/1992', 'Priscila', 19.0), ('26/11/1992', 'Priscila', 11.0), ('ABC', None, 30.0), ('ABC', None, None)]\n"
          ]
        }
      ]
    },
    {
      "cell_type": "markdown",
      "source": [
        "##MODIFICAR REGISTROS EXISTENTES NA TABELA **(UPDATE)**\n",
        "\n"
      ],
      "metadata": {
        "id": "JFgs-uE1Oi-9"
      }
    },
    {
      "cell_type": "code",
      "source": [
        "Consulta = Cursor.execute(\n",
        "    ''' \n",
        "    SELECT * FROM Minha_Primeira_Tabela\n",
        "    '''\n",
        ").fetchall()\n",
        "\n",
        "for Linha in Consulta:\n",
        "  print( Linha )\n",
        "\n",
        "  #verificando valores não nulos"
      ],
      "metadata": {
        "colab": {
          "base_uri": "https://localhost:8080/"
        },
        "id": "0S0MvwOCOOdu",
        "outputId": "b48a90a0-6077-46e6-d3e6-ce885de00caa"
      },
      "execution_count": null,
      "outputs": [
        {
          "output_type": "stream",
          "name": "stdout",
          "text": [
            "('Ana Paula', '30/09/1993', 29.0)\n",
            "('Priscila', '26/11/1992', 30.0)\n",
            "('26/11/1992', 'Priscila', 13.0)\n",
            "('26/11/1992', 'Priscila', 20.0)\n",
            "('26/11/1992', 'Priscila', 14.0)\n",
            "('26/11/1992', 'Priscila', 14.0)\n",
            "('26/11/1992', 'Priscila', 18.0)\n",
            "('26/11/1992', 'Priscila', 19.0)\n",
            "('26/11/1992', 'Priscila', 13.0)\n",
            "('26/11/1992', 'Priscila', 20.0)\n",
            "('26/11/1992', 'Priscila', 19.0)\n",
            "('26/11/1992', 'Priscila', 11.0)\n",
            "('ABC', None, 30.0)\n",
            "('ABC', None, None)\n"
          ]
        }
      ]
    },
    {
      "cell_type": "code",
      "source": [
        "# Verificando valores não nulos\n",
        "Consulta = Cursor.execute(\n",
        "    ''' \n",
        "    UPDATE Minha_Primeira_Tabela\n",
        "    SET Nome = 'Preenchido'\n",
        "    WHERE Nome IS NULL\n",
        "    '''\n",
        ").fetchall()\n",
        "\n",
        "print(Consulta)"
      ],
      "metadata": {
        "colab": {
          "base_uri": "https://localhost:8080/"
        },
        "id": "TeEJtGtKO784",
        "outputId": "d033ca38-7914-4a5d-e58a-f48ac03c18e8"
      },
      "execution_count": null,
      "outputs": [
        {
          "output_type": "stream",
          "name": "stdout",
          "text": [
            "[]\n"
          ]
        }
      ]
    },
    {
      "cell_type": "code",
      "source": [
        "print( Consulta )"
      ],
      "metadata": {
        "colab": {
          "base_uri": "https://localhost:8080/"
        },
        "id": "NZSUm06NPg-4",
        "outputId": "e607748b-ba2c-4151-8d71-c260d72119ed"
      },
      "execution_count": null,
      "outputs": [
        {
          "output_type": "stream",
          "name": "stdout",
          "text": [
            "[]\n"
          ]
        }
      ]
    },
    {
      "cell_type": "code",
      "source": [
        "# Verificando\n",
        "Consulta = Cursor.execute(\n",
        "    ''' \n",
        "    SELECT * FROM Minha_Primeira_Tabela\n",
        "    '''\n",
        ").fetchall()\n",
        "\n",
        "for Linha in Consulta:\n",
        "  print( Linha )"
      ],
      "metadata": {
        "colab": {
          "base_uri": "https://localhost:8080/"
        },
        "id": "xn1iypCKPkSY",
        "outputId": "8fc50fa1-a65b-41d4-c297-a8861131c6dd"
      },
      "execution_count": null,
      "outputs": [
        {
          "output_type": "stream",
          "name": "stdout",
          "text": [
            "('Ana Paula', '30/09/1993', 29.0)\n",
            "('Priscila', '26/11/1992', 30.0)\n",
            "('26/11/1992', 'Priscila', 13.0)\n",
            "('26/11/1992', 'Priscila', 20.0)\n",
            "('26/11/1992', 'Priscila', 14.0)\n",
            "('26/11/1992', 'Priscila', 14.0)\n",
            "('26/11/1992', 'Priscila', 18.0)\n",
            "('26/11/1992', 'Priscila', 19.0)\n",
            "('26/11/1992', 'Priscila', 13.0)\n",
            "('26/11/1992', 'Priscila', 20.0)\n",
            "('26/11/1992', 'Priscila', 19.0)\n",
            "('26/11/1992', 'Priscila', 11.0)\n",
            "('ABC', None, 30.0)\n",
            "('ABC', None, None)\n"
          ]
        }
      ]
    },
    {
      "cell_type": "code",
      "source": [
        "# Verificando valores não nulos\n",
        "Consulta = Cursor.execute(\n",
        "    ''' \n",
        "    UPDATE Minha_Primeira_Tabela\n",
        "    SET Idade = 29\n",
        "    WHERE Idade IS NULL\n",
        "    '''\n",
        ").fetchall()\n",
        "\n",
        "# Verificando\n",
        "Consulta = Cursor.execute(\n",
        "    ''' \n",
        "    SELECT * FROM Minha_Primeira_Tabela\n",
        "    '''\n",
        ").fetchall()\n",
        "\n",
        "for Linha in Consulta:\n",
        "  print( Linha )"
      ],
      "metadata": {
        "colab": {
          "base_uri": "https://localhost:8080/"
        },
        "id": "DyfFQYSvO1k1",
        "outputId": "dc3e04be-a3e8-4f69-cb08-0476afde130b"
      },
      "execution_count": null,
      "outputs": [
        {
          "output_type": "stream",
          "name": "stdout",
          "text": [
            "('Ana Paula', '30/09/1993', 29.0)\n",
            "('Priscila', '26/11/1992', 30.0)\n",
            "('26/11/1992', 'Priscila', 13.0)\n",
            "('26/11/1992', 'Priscila', 20.0)\n",
            "('26/11/1992', 'Priscila', 14.0)\n",
            "('26/11/1992', 'Priscila', 14.0)\n",
            "('26/11/1992', 'Priscila', 18.0)\n",
            "('26/11/1992', 'Priscila', 19.0)\n",
            "('26/11/1992', 'Priscila', 13.0)\n",
            "('26/11/1992', 'Priscila', 20.0)\n",
            "('26/11/1992', 'Priscila', 19.0)\n",
            "('26/11/1992', 'Priscila', 11.0)\n",
            "('ABC', None, 30.0)\n",
            "('ABC', None, 29.0)\n"
          ]
        }
      ]
    },
    {
      "cell_type": "markdown",
      "source": [
        "##EXCLUIR REGISTROS EXISTENTES EM UMA TABELA **(DELETE)**"
      ],
      "metadata": {
        "id": "NCKTjQ_PPEK9"
      }
    },
    {
      "cell_type": "code",
      "source": [
        "#Valores não nulos \n",
        "Consulta = Cursor.execute(\n",
        "  '''\n",
        "  DELETE from Minha_Primeira_Tabela \n",
        "  WHERE Nome = 'Preenchido' \n",
        "  '''\n",
        ").fetchall\n",
        "    \n"
      ],
      "metadata": {
        "id": "X9s0UpM5PKyn"
      },
      "execution_count": null,
      "outputs": []
    },
    {
      "cell_type": "code",
      "source": [
        "Consulta = Cursor.execute(\n",
        "    '''\n",
        "    SELECT * from Minha_Primeira_Tabela\n",
        "    '''\n",
        ").fetchall()\n",
        "\n",
        "for Linha in Consulta:\n",
        "  print (Linha)"
      ],
      "metadata": {
        "colab": {
          "base_uri": "https://localhost:8080/"
        },
        "id": "Fzrt1bQ1Peix",
        "outputId": "d69871ad-b17d-4fd8-b5b0-946c08806ca1"
      },
      "execution_count": null,
      "outputs": [
        {
          "output_type": "stream",
          "name": "stdout",
          "text": [
            "('Ana Paula', '30/09/1993', 29.0)\n",
            "('Priscila', '26/11/1992', 30.0)\n",
            "('26/11/1992', 'Priscila', 13.0)\n",
            "('26/11/1992', 'Priscila', 20.0)\n",
            "('26/11/1992', 'Priscila', 14.0)\n",
            "('26/11/1992', 'Priscila', 14.0)\n",
            "('26/11/1992', 'Priscila', 18.0)\n",
            "('26/11/1992', 'Priscila', 19.0)\n",
            "('26/11/1992', 'Priscila', 13.0)\n",
            "('26/11/1992', 'Priscila', 20.0)\n",
            "('26/11/1992', 'Priscila', 19.0)\n",
            "('26/11/1992', 'Priscila', 11.0)\n",
            "('ABC', None, 30.0)\n",
            "('ABC', None, 29.0)\n"
          ]
        }
      ]
    },
    {
      "cell_type": "code",
      "source": [
        "#Valores não nulos\n",
        "Consulta = Cursor.execute(\n",
        "    '''\n",
        "    DELETE from Minha_Primeira_Tabela\n",
        "    WHERE Nome = 'Ana Paula' AND idade = 29\n",
        "    '''\n",
        ").fetchall()"
      ],
      "metadata": {
        "id": "H6neXSrDPvwP"
      },
      "execution_count": null,
      "outputs": []
    },
    {
      "cell_type": "code",
      "source": [
        "Consulta = Cursor.execute(\n",
        "    ''' \n",
        "    SELECT * FROM Minha_Primeira_Tabela\n",
        "    '''\n",
        ").fetchall()\n",
        "\n",
        "for Linha in Consulta:\n",
        "  print( Linha )"
      ],
      "metadata": {
        "colab": {
          "base_uri": "https://localhost:8080/"
        },
        "id": "_q7zKo0vP_Yt",
        "outputId": "4aa94238-eda1-4a60-998f-d084b2aa5370"
      },
      "execution_count": null,
      "outputs": [
        {
          "output_type": "stream",
          "name": "stdout",
          "text": [
            "('Priscila', '26/11/1992', 30.0)\n",
            "('26/11/1992', 'Priscila', 13.0)\n",
            "('26/11/1992', 'Priscila', 20.0)\n",
            "('26/11/1992', 'Priscila', 14.0)\n",
            "('26/11/1992', 'Priscila', 14.0)\n",
            "('26/11/1992', 'Priscila', 18.0)\n",
            "('26/11/1992', 'Priscila', 19.0)\n",
            "('26/11/1992', 'Priscila', 13.0)\n",
            "('26/11/1992', 'Priscila', 20.0)\n",
            "('26/11/1992', 'Priscila', 19.0)\n",
            "('26/11/1992', 'Priscila', 11.0)\n",
            "('ABC', None, 30.0)\n",
            "('ABC', None, 29.0)\n"
          ]
        }
      ]
    },
    {
      "cell_type": "markdown",
      "source": [
        "##ESPECIFICAR O NÚMERO DE REGISTROS A SEREM RETORNADOS **(SELECT TOP)**"
      ],
      "metadata": {
        "id": "nVl9C_XPSD53"
      }
    },
    {
      "cell_type": "code",
      "source": [
        "Consulta = Cursor.execute(\n",
        "    ''' \n",
        "    SELECT * FROM Minha_Primeira_Tabela\n",
        "    LIMIT 5\n",
        "    '''\n",
        ").fetchall()\n",
        "\n",
        "print( Consulta )"
      ],
      "metadata": {
        "colab": {
          "base_uri": "https://localhost:8080/"
        },
        "id": "4uSDjp3tTORu",
        "outputId": "39bcdfa0-ece2-475a-eb88-1d79f8079791"
      },
      "execution_count": null,
      "outputs": [
        {
          "output_type": "stream",
          "name": "stdout",
          "text": [
            "[('Priscila', '26/11/1992', 30.0), ('26/11/1992', 'Priscila', 13.0), ('26/11/1992', 'Priscila', 20.0), ('26/11/1992', 'Priscila', 14.0), ('26/11/1992', 'Priscila', 14.0)]\n"
          ]
        }
      ]
    },
    {
      "cell_type": "markdown",
      "source": [
        "##**MIN()** - RETORNA O MENOR VALOR DA COLUNA \n",
        "##**MAX()** - RETORNA O MAIOR VALOR DA COLUNA"
      ],
      "metadata": {
        "id": "Z-nU7xQBUJOM"
      }
    },
    {
      "cell_type": "code",
      "source": [
        "Consulta = Cursor.execute(\n",
        "    ''' \n",
        "    SELECT MIN (Idade) FROM Minha_Primeira_Tabela\n",
        "    '''\n",
        ").fetchall()\n",
        "\n",
        "print( Consulta )"
      ],
      "metadata": {
        "colab": {
          "base_uri": "https://localhost:8080/"
        },
        "id": "55mrsD07T9b8",
        "outputId": "1996bac7-3794-4c93-8ef0-0e8e9e7087ff"
      },
      "execution_count": null,
      "outputs": [
        {
          "output_type": "stream",
          "name": "stdout",
          "text": [
            "[(11.0,)]\n"
          ]
        }
      ]
    },
    {
      "cell_type": "code",
      "source": [
        "Consulta = Cursor.execute(\n",
        "    ''' \n",
        "    SELECT MAX (Idade) FROM Minha_Primeira_Tabela\n",
        "    '''\n",
        ").fetchall()\n",
        "\n",
        "print( Consulta )"
      ],
      "metadata": {
        "colab": {
          "base_uri": "https://localhost:8080/"
        },
        "id": "IRpGU7GgWW_O",
        "outputId": "0962d4ac-da48-4d7c-c1f3-1175e6bbdaec"
      },
      "execution_count": null,
      "outputs": [
        {
          "output_type": "stream",
          "name": "stdout",
          "text": [
            "[(30.0,)]\n"
          ]
        }
      ]
    },
    {
      "cell_type": "markdown",
      "source": [
        "##**COUNT ()** - RETORNA O NÚMERO DE LINHAS QUE CORREPONDE A UM CRITÉRIO\n",
        "##**AVG()** - VALOR MÉDIO DE UMA COLUNA NUMÉRICA\n",
        "##**SUM()** - SOMA TOTAL DE UMA COLUNA NUMÉRIA "
      ],
      "metadata": {
        "id": "6XpgfkxHWazj"
      }
    },
    {
      "cell_type": "code",
      "source": [
        "Consulta = Cursor.execute(\n",
        "    ''' \n",
        "    SELECT COUNT (Idade) FROM Minha_Primeira_Tabela\n",
        "    '''\n",
        ").fetchall()\n",
        "\n",
        "print( Consulta )"
      ],
      "metadata": {
        "colab": {
          "base_uri": "https://localhost:8080/"
        },
        "id": "mwTBkhm0WrMa",
        "outputId": "85155178-eb2e-49bd-9937-ecd53f076500"
      },
      "execution_count": null,
      "outputs": [
        {
          "output_type": "stream",
          "name": "stdout",
          "text": [
            "[(13,)]\n"
          ]
        }
      ]
    },
    {
      "cell_type": "code",
      "source": [
        "Consulta = Cursor.execute(\n",
        "    ''' \n",
        "    SELECT AVG (Idade) FROM Minha_Primeira_Tabela\n",
        "    '''\n",
        ").fetchall()\n",
        "\n",
        "print( Consulta )"
      ],
      "metadata": {
        "colab": {
          "base_uri": "https://localhost:8080/"
        },
        "id": "G4qds1brWzVS",
        "outputId": "bfe55767-d55a-402f-c8cf-7b9fef370f4e"
      },
      "execution_count": null,
      "outputs": [
        {
          "output_type": "stream",
          "name": "stdout",
          "text": [
            "[(19.23076923076923,)]\n"
          ]
        }
      ]
    },
    {
      "cell_type": "code",
      "source": [
        "Consulta = Cursor.execute(\n",
        "    ''' \n",
        "    SELECT SUM (Idade) FROM Minha_Primeira_Tabela\n",
        "    '''\n",
        ").fetchall()\n",
        "\n",
        "print( Consulta )"
      ],
      "metadata": {
        "colab": {
          "base_uri": "https://localhost:8080/"
        },
        "id": "N_jqIr1oW1mi",
        "outputId": "7608d98a-6d80-43a4-fe33-ace787f82106"
      },
      "execution_count": null,
      "outputs": [
        {
          "output_type": "stream",
          "name": "stdout",
          "text": [
            "[(250.0,)]\n"
          ]
        }
      ]
    },
    {
      "cell_type": "markdown",
      "source": [
        "##NOME TEMPORÁRIO A UMA TABELA OU COLUNA **(ALIASES - AS)**\n",
        "OBS: EXISTE APENAS DURANTE ESSA CONSULTA \n"
      ],
      "metadata": {
        "id": "sRZRDnu2W6IO"
      }
    },
    {
      "cell_type": "code",
      "source": [
        "Consulta = Cursor.execute(\n",
        "    ''' \n",
        "    SELECT Idade AS Idade_Clientes FROM Minha_Primeira_Tabela\n",
        "    '''\n",
        ").fetchall()\n",
        "\n",
        "print( Consulta )"
      ],
      "metadata": {
        "colab": {
          "base_uri": "https://localhost:8080/"
        },
        "id": "kWMXCw3bXEsJ",
        "outputId": "7f2cc5b4-e712-431b-be9d-a96aac394bba"
      },
      "execution_count": null,
      "outputs": [
        {
          "output_type": "stream",
          "name": "stdout",
          "text": [
            "[(30.0,), (13.0,), (20.0,), (14.0,), (14.0,), (18.0,), (19.0,), (13.0,), (20.0,), (19.0,), (11.0,), (30.0,), (29.0,)]\n"
          ]
        }
      ]
    },
    {
      "cell_type": "markdown",
      "source": [
        "##COMBINAR LINHAS DE DUAS OU MAIS TABELAS (COM A CONDIÇÃO DE TER COLUNA RELACIONADA COM AS DUAS OU MAIS TABELAS **(JOIN)**\n",
        "\n",
        "1. (INNER) JOIN: valores correspondentes em ambas tabelas\n",
        "2. LEFT (OUTER) JOIN: todos os registros da tabela da esquerda e os registros correspondentes da tabela da direita \n",
        "3. RIGHT (OUTER) JOIN: todos os registros da direita e os registros correspondentes da tabela da esquerda\n",
        "4. FULL (OUTER) JOIN: todos os registros quando há uma correspondência na tabela esquerda ou direita "
      ],
      "metadata": {
        "id": "wfrXjUUCXO3d"
      }
    },
    {
      "cell_type": "code",
      "source": [
        "# CREATE TABLE - ID e VALOR DA VENDA\n",
        "\n",
        "Consulta = Cursor.execute(\n",
        "    '''\n",
        "    CREATE TABLE Tab_Vendas (id real, valor real)\n",
        "    '''\n",
        ")\n",
        "\n",
        "Conexao.commit()"
      ],
      "metadata": {
        "id": "euiNr-YAX7Dq"
      },
      "execution_count": null,
      "outputs": []
    },
    {
      "cell_type": "code",
      "source": [
        "# CREATE TABLE - Dados Cadastrais Vendedores\n",
        "Consulta = Cursor.execute(\n",
        "    '''\n",
        "    CREATE TABLE Tab_Cadastro_Vendedor (id real, nome text)\n",
        "    '''\n",
        ")\n",
        "\n",
        "Conexao.commit() ##commit - criando a tabela"
      ],
      "metadata": {
        "id": "XGWncfTHXOig"
      },
      "execution_count": null,
      "outputs": []
    },
    {
      "cell_type": "code",
      "source": [
        "Cursor.execute( 'INSERT INTO Tab_Vendas VALUES (1, 100) ' )\n",
        "Cursor.execute( 'INSERT INTO Tab_Vendas VALUES (1, 200) ' )\n",
        "Cursor.execute( 'INSERT INTO Tab_Vendas VALUES (1, 150) ' )\n",
        "\n",
        "Cursor.execute( 'INSERT INTO Tab_Vendas VALUES (2, 50) ' )\n",
        "Cursor.execute( 'INSERT INTO Tab_Vendas VALUES (2, 200) ' )\n",
        "Cursor.execute( 'INSERT INTO Tab_Vendas VALUES (2, 900) ' )"
      ],
      "metadata": {
        "colab": {
          "base_uri": "https://localhost:8080/"
        },
        "id": "6qt2__4loLf-",
        "outputId": "a5c0cd50-8792-40c0-a854-47eda5f0ad46"
      },
      "execution_count": null,
      "outputs": [
        {
          "output_type": "execute_result",
          "data": {
            "text/plain": [
              "<sqlite3.Cursor at 0x7f5285aa8c70>"
            ]
          },
          "metadata": {},
          "execution_count": 9
        }
      ]
    },
    {
      "cell_type": "code",
      "source": [
        "Cursor.execute( 'INSERT INTO Tab_Cadastro_Vendedor VALUES (1, \"Ana Paula Cabral\") ' )\n",
        "Cursor.execute( 'INSERT INTO Tab_Cadastro_Vendedor VALUES (2, \"Priscila Cabral\") ' )"
      ],
      "metadata": {
        "colab": {
          "base_uri": "https://localhost:8080/"
        },
        "id": "XUQVc_hQoR3v",
        "outputId": "ccd7cffd-b6cf-43d3-89e4-db2aa513c4d5"
      },
      "execution_count": null,
      "outputs": [
        {
          "output_type": "execute_result",
          "data": {
            "text/plain": [
              "<sqlite3.Cursor at 0x7f5285aa8c70>"
            ]
          },
          "metadata": {},
          "execution_count": 11
        }
      ]
    },
    {
      "cell_type": "code",
      "source": [
        "#Verificando a tabela\n",
        "\n",
        "Consulta = Cursor.execute(\n",
        "    ''' \n",
        "    SELECT * FROM Tab_Vendas\n",
        "    '''\n",
        ").fetchall()\n",
        "\n",
        "for Linha in Consulta:\n",
        "  print( Linha )"
      ],
      "metadata": {
        "colab": {
          "base_uri": "https://localhost:8080/"
        },
        "id": "kuEFm2QYofBd",
        "outputId": "ca4ca7de-0f6c-4763-81a4-85069c39a644"
      },
      "execution_count": null,
      "outputs": [
        {
          "output_type": "stream",
          "name": "stdout",
          "text": [
            "(1.0, 100.0)\n",
            "(1.0, 200.0)\n",
            "(1.0, 150.0)\n",
            "(2.0, 50.0)\n",
            "(2.0, 200.0)\n",
            "(2.0, 900.0)\n"
          ]
        }
      ]
    },
    {
      "cell_type": "code",
      "source": [
        "# Verificando a tab\n",
        "Consulta = Cursor.execute(\n",
        "    ''' \n",
        "    SELECT * FROM Tab_Cadastro_Vendedor\n",
        "    '''\n",
        ").fetchall()\n",
        "\n",
        "for Linha in Consulta:\n",
        "  print( Linha )"
      ],
      "metadata": {
        "colab": {
          "base_uri": "https://localhost:8080/"
        },
        "id": "jpyQpKspokpc",
        "outputId": "7aeb35bc-24ed-424c-e80c-b9fc96441a15"
      },
      "execution_count": null,
      "outputs": [
        {
          "output_type": "stream",
          "name": "stdout",
          "text": [
            "(1.0, 'Ana Paula Cabral')\n",
            "(2.0, 'Priscila Cabral')\n"
          ]
        }
      ]
    },
    {
      "cell_type": "code",
      "source": [
        "# INNER JOIN \n",
        "\n",
        "Consulta = Cursor.execute(\n",
        "    ''' \n",
        "    SELECT * FROM Tab_Vendas\n",
        "    INNER JOIN Tab_Cadastro_Vendedor\n",
        "    ON Tab_Vendas.id = Tab_Cadastro_Vendedor.id\n",
        "    '''\n",
        ").fetchall()\n",
        "\n",
        "for Linha in Consulta:\n",
        "  print( Linha )"
      ],
      "metadata": {
        "colab": {
          "base_uri": "https://localhost:8080/"
        },
        "id": "1IKqChz_oo_N",
        "outputId": "fb2038b0-dba5-4132-bffc-63a163aa5b54"
      },
      "execution_count": null,
      "outputs": [
        {
          "output_type": "stream",
          "name": "stdout",
          "text": [
            "(1.0, 100.0, 1.0, 'Ana Paula Cabral')\n",
            "(1.0, 200.0, 1.0, 'Ana Paula Cabral')\n",
            "(1.0, 150.0, 1.0, 'Ana Paula Cabral')\n",
            "(2.0, 50.0, 2.0, 'Priscila Cabral')\n",
            "(2.0, 200.0, 2.0, 'Priscila Cabral')\n",
            "(2.0, 900.0, 2.0, 'Priscila Cabral')\n"
          ]
        }
      ]
    },
    {
      "cell_type": "code",
      "source": [
        "# LEFT JOIN \n",
        "Cursor.execute( 'INSERT INTO Tab_Vendas VALUES (3, 9999) ' )"
      ],
      "metadata": {
        "colab": {
          "base_uri": "https://localhost:8080/"
        },
        "id": "04rRB5nnpPdw",
        "outputId": "bf4f5611-e140-41cb-f266-61d2b0e3985b"
      },
      "execution_count": null,
      "outputs": [
        {
          "output_type": "execute_result",
          "data": {
            "text/plain": [
              "<sqlite3.Cursor at 0x7f5285aa8c70>"
            ]
          },
          "metadata": {},
          "execution_count": 19
        }
      ]
    },
    {
      "cell_type": "code",
      "source": [
        "Consulta = Cursor.execute(\n",
        "    ''' \n",
        "    SELECT * FROM Tab_Vendas\n",
        "    LEFT JOIN Tab_Cadastro_Vendedor\n",
        "    ON Tab_Vendas.id = Tab_Cadastro_Vendedor.id\n",
        "    '''\n",
        ").fetchall()\n",
        "\n",
        "for Linha in Consulta:\n",
        "  print( Linha )"
      ],
      "metadata": {
        "colab": {
          "base_uri": "https://localhost:8080/"
        },
        "id": "KdvymTRqr-eo",
        "outputId": "ae08006d-0b43-46a6-f2e2-593cc258d938"
      },
      "execution_count": null,
      "outputs": [
        {
          "output_type": "stream",
          "name": "stdout",
          "text": [
            "(1.0, 100.0, 1.0, 'Ana Paula Cabral')\n",
            "(1.0, 200.0, 1.0, 'Ana Paula Cabral')\n",
            "(1.0, 150.0, 1.0, 'Ana Paula Cabral')\n",
            "(2.0, 50.0, 2.0, 'Priscila Cabral')\n",
            "(2.0, 200.0, 2.0, 'Priscila Cabral')\n",
            "(2.0, 900.0, 2.0, 'Priscila Cabral')\n",
            "(3.0, 9999.0, None, None)\n"
          ]
        }
      ]
    },
    {
      "cell_type": "markdown",
      "source": [
        "## COMBINAR O CONJUNTO DE RSULTADOS DE DUAS OU MAIS SELECT INSTRUÇÕES **(UNION)**\n",
        "\n"
      ],
      "metadata": {
        "id": "BY1BjXf0sE-b"
      }
    },
    {
      "cell_type": "code",
      "source": [
        "# CREATE TABLE \n",
        "Cursor.execute ('CREATE TABLE Tabela_A (Id real, Nome text)')\n",
        "Conexao.commit()\n",
        "\n",
        "Cursor.execute('CREATE TABLE Tabela_B (Id real, Nome text)')\n",
        "Conexao.commit()"
      ],
      "metadata": {
        "id": "Spo0HwvJtWgy"
      },
      "execution_count": null,
      "outputs": []
    },
    {
      "cell_type": "code",
      "source": [
        "# Inserir valores\n",
        "Cursor.execute(' INSERT INTO Tabela_A VALUES ( 1, \"David\" )')\n",
        "Cursor.execute(' INSERT INTO Tabela_A VALUES ( 2, \"Yohanna\" )')\n",
        "Cursor.execute(' INSERT INTO Tabela_A VALUES ( 3, \"Erica\" )')\n",
        "\n",
        "Cursor.execute(' INSERT INTO Tabela_B VALUES ( 1, \"Ramon\" )')\n",
        "Cursor.execute(' INSERT INTO Tabela_B VALUES ( 2, \"Ju\" )')\n",
        "Cursor.execute(' INSERT INTO Tabela_B VALUES ( 3, \"Cadu\" )')"
      ],
      "metadata": {
        "colab": {
          "base_uri": "https://localhost:8080/"
        },
        "id": "f-WJjrQHtt-5",
        "outputId": "6c555745-b818-41e8-b7fd-9baef9b6ab6c"
      },
      "execution_count": null,
      "outputs": [
        {
          "output_type": "execute_result",
          "data": {
            "text/plain": [
              "<sqlite3.Cursor at 0x7f5285aa8c70>"
            ]
          },
          "metadata": {},
          "execution_count": 22
        }
      ]
    },
    {
      "cell_type": "code",
      "source": [
        "Consulta = Cursor.execute(\n",
        "    '''\n",
        "    SELECT * FROM Tabela_A\n",
        "    '''\n",
        ").fetchall()\n",
        "print(Consulta)"
      ],
      "metadata": {
        "colab": {
          "base_uri": "https://localhost:8080/"
        },
        "id": "dE0pm3EPt97u",
        "outputId": "ec3b04e6-de1e-49eb-8a03-7e02e4ae2f4e"
      },
      "execution_count": null,
      "outputs": [
        {
          "output_type": "stream",
          "name": "stdout",
          "text": [
            "[(1.0, 'David'), (2.0, 'Yohanna'), (3.0, 'Erica')]\n"
          ]
        }
      ]
    },
    {
      "cell_type": "code",
      "source": [
        "Consulta = Cursor.execute(\n",
        "    '''\n",
        "    SELECT * FROM Tabela_B\n",
        "    '''\n",
        ").fetchall()\n",
        "print(Consulta)"
      ],
      "metadata": {
        "colab": {
          "base_uri": "https://localhost:8080/"
        },
        "id": "_av-RvDjuN6k",
        "outputId": "96ad2ffb-1a8f-4502-96ed-6a7a94042c69"
      },
      "execution_count": null,
      "outputs": [
        {
          "output_type": "stream",
          "name": "stdout",
          "text": [
            "[(1.0, 'Ramon'), (2.0, 'Ju'), (3.0, 'Cadu')]\n"
          ]
        }
      ]
    },
    {
      "cell_type": "code",
      "source": [
        "Consulta = Cursor.execute(\n",
        "    '''\n",
        "    SELECT * FROM Tabela_A\n",
        "    UNION ALL\n",
        "    SELECT * FROM Tabela_B\n",
        "    '''\n",
        ").fetchall()\n",
        "\n",
        "for Linha in Consulta:\n",
        "  print( Linha )"
      ],
      "metadata": {
        "colab": {
          "base_uri": "https://localhost:8080/"
        },
        "id": "forTMqW6uQ4V",
        "outputId": "663cad19-3039-4cdf-ecf2-4adf23cee823"
      },
      "execution_count": null,
      "outputs": [
        {
          "output_type": "stream",
          "name": "stdout",
          "text": [
            "(1.0, 'David')\n",
            "(2.0, 'Yohanna')\n",
            "(3.0, 'Erica')\n",
            "(1.0, 'Ramon')\n",
            "(2.0, 'Ju')\n",
            "(3.0, 'Cadu')\n"
          ]
        }
      ]
    },
    {
      "cell_type": "markdown",
      "source": [
        "##AGRUPA LINHAS QUE TEM OS MESMOS VALORES EM LINHAS DE RESUMO **(GROUP BY)**\n",
        "\n",
        "OBS: GROUP BY é frequentemente usada com funções agregadas - COUNT(), MIN(), MAX(), SUM(), AVG().. para agrupar o conjunto de resultados por uma ou mais colunas"
      ],
      "metadata": {
        "id": "BNeLY0eNuWRY"
      }
    },
    {
      "cell_type": "code",
      "source": [
        "#apenas consultando tabela\n",
        "Consulta = Cursor.execute(\n",
        "    '''\n",
        "    SELECT * FROM Minha_Primeira_Tabela\n",
        "    '''\n",
        ").fetchall()\n",
        "\n",
        "for Linha in Consulta:\n",
        "  print( Linha )"
      ],
      "metadata": {
        "id": "DeblEBnUxnJY"
      },
      "execution_count": null,
      "outputs": []
    },
    {
      "cell_type": "code",
      "source": [
        "Consulta = Cursor.execute(\n",
        "    '''\n",
        "    SELECT SUM (Idade) FROM Minha_Primeira_Tabela\n",
        "    WHERE Nome = 'Ana Paula'\n",
        "    GROUP BY Nome\n",
        "    '''\n",
        ").fetchall()\n",
        "\n",
        "for Linha in Consulta:\n",
        "  print( Linha )"
      ],
      "metadata": {
        "id": "CtWPhf0Txyy9"
      },
      "execution_count": null,
      "outputs": []
    },
    {
      "cell_type": "code",
      "source": [
        "Consulta = Cursor.execute(\n",
        "    '''\n",
        "    SELECT COUNT (Idade) FROM Minha_Primeira_Tabela\n",
        "    GROUP BY Nome\n",
        "    '''\n",
        ").fetchall()\n",
        "\n",
        "for Linha in Consulta:\n",
        "  print( Linha )"
      ],
      "metadata": {
        "id": "NnmwadzJx6zk"
      },
      "execution_count": null,
      "outputs": []
    },
    {
      "cell_type": "code",
      "source": [
        "Consulta = Cursor.execute(\n",
        "    '''\n",
        "    SELECT MIN (Idade) FROM Minha_Primeira_Tabela\n",
        "    GROUP BY Nome\n",
        "    '''\n",
        ").fetchall()\n",
        "\n",
        "for Linha in Consulta:\n",
        "  print( Linha )"
      ],
      "metadata": {
        "id": "NgdPDZysyAOk"
      },
      "execution_count": null,
      "outputs": []
    },
    {
      "cell_type": "code",
      "source": [
        "Consulta = Cursor.execute(\n",
        "    '''\n",
        "    SELECT MAX (Idade) FROM Minha_Primeira_Tabela\n",
        "    GROUP BY Nome\n",
        "    '''\n",
        ").fetchall()\n",
        "\n",
        "for Linha in Consulta:\n",
        "  print( Linha )"
      ],
      "metadata": {
        "id": "GxcGmneZyC6O"
      },
      "execution_count": null,
      "outputs": []
    },
    {
      "cell_type": "code",
      "source": [
        "Consulta = Cursor.execute(\n",
        "    '''\n",
        "    SELECT AVG (Idade) FROM Minha_Primeira_Tabela\n",
        "    GROUP BY Nome\n",
        "    '''\n",
        ").fetchall()\n",
        "\n",
        "for Linha in Consulta:\n",
        "  print( Linha )"
      ],
      "metadata": {
        "id": "E7Nl438oyEt7"
      },
      "execution_count": null,
      "outputs": []
    },
    {
      "cell_type": "markdown",
      "source": [
        "##EXPLICAR SEÇÕES DE INSTRUÇÕES SQL ou IMPEDIR A EXECUÇÃO DE INSTRUÇÕES **(COMMENTS)**"
      ],
      "metadata": {
        "id": "yg-PRjSVyH-Z"
      }
    },
    {
      "cell_type": "code",
      "source": [
        "Consulta = Cursor.execute(\n",
        "    '''\n",
        "    -- Selecionado a tabela \n",
        "    SELECT * FROM Minha_Primeira_Tabela\n",
        "    '''\n",
        ").fetchall()\n",
        "\n",
        "for Linha in Consulta:\n",
        "  print( Linha )"
      ],
      "metadata": {
        "id": "VeRHQcFlySHF"
      },
      "execution_count": null,
      "outputs": []
    },
    {
      "cell_type": "markdown",
      "source": [],
      "metadata": {
        "id": "DlsfboLKyr1g"
      }
    },
    {
      "cell_type": "markdown",
      "source": [
        "## CHAVE PRIMÁRIA **(PRIMARY KEY)** - IDENTIFICA EXCLUSIVAMENTE CADA REGISTRO NA TABELA \n",
        "\n",
        "OBS: CHAVES PRIMÁRIAS DEVEM CONTER VALORES UNIQUE e NÃO PODEM CONTER VALORES NULL\n",
        "OBS: UMA TABELA TEM APENAS UMA CHAVE PRIMÁRIA (PODE SER UMA OU VÁRIAS COLUNAS)"
      ],
      "metadata": {
        "id": "Eh-VeWWkyczL"
      }
    },
    {
      "cell_type": "code",
      "source": [
        "Query = '''\n",
        "CREATE TABLE Clientes (\n",
        "    ID int NOT NULL,\n",
        "    Nome varchar(255) NOT NULL,\n",
        "    Sobrenome varchar(255),\n",
        "    Idade int,\n",
        "    PRIMARY KEY (ID)\n",
        ") \n",
        "'''"
      ],
      "metadata": {
        "id": "4m2SlGEEytCw"
      },
      "execution_count": null,
      "outputs": []
    },
    {
      "cell_type": "code",
      "source": [
        "Consulta = Cursor.execute( Query )\n"
      ],
      "metadata": {
        "id": "4ci6zTrp0pKu",
        "colab": {
          "base_uri": "https://localhost:8080/",
          "height": 165
        },
        "outputId": "d4c8f8f0-fbd3-48d4-dc24-7b1030950578"
      },
      "execution_count": null,
      "outputs": [
        {
          "output_type": "error",
          "ename": "OperationalError",
          "evalue": "ignored",
          "traceback": [
            "\u001b[0;31m---------------------------------------------------------------------------\u001b[0m",
            "\u001b[0;31mOperationalError\u001b[0m                          Traceback (most recent call last)",
            "\u001b[0;32m<ipython-input-67-f76e5ba37191>\u001b[0m in \u001b[0;36m<module>\u001b[0;34m\u001b[0m\n\u001b[0;32m----> 1\u001b[0;31m \u001b[0mConsulta\u001b[0m \u001b[0;34m=\u001b[0m \u001b[0mCursor\u001b[0m\u001b[0;34m.\u001b[0m\u001b[0mexecute\u001b[0m\u001b[0;34m(\u001b[0m \u001b[0mQuery\u001b[0m \u001b[0;34m)\u001b[0m\u001b[0;34m\u001b[0m\u001b[0;34m\u001b[0m\u001b[0m\n\u001b[0m",
            "\u001b[0;31mOperationalError\u001b[0m: table Clientes already exists"
          ]
        }
      ]
    },
    {
      "cell_type": "code",
      "source": [
        "#salvar alterações BD\n",
        "\n",
        "Conexao.commit()"
      ],
      "metadata": {
        "id": "np9Iu3So0ukp"
      },
      "execution_count": null,
      "outputs": []
    },
    {
      "cell_type": "code",
      "source": [
        "Cursor.execute(\"INSERT INTO Clientes VALUES (2, 'Odete', 'Cabral',  85)\")\n"
      ],
      "metadata": {
        "colab": {
          "base_uri": "https://localhost:8080/"
        },
        "id": "FKVcNXZp2awf",
        "outputId": "044a98f2-feb8-4658-8bcf-456a49cf7879"
      },
      "execution_count": null,
      "outputs": [
        {
          "output_type": "execute_result",
          "data": {
            "text/plain": [
              "<sqlite3.Cursor at 0x7fb33cdb0ab0>"
            ]
          },
          "metadata": {},
          "execution_count": 57
        }
      ]
    },
    {
      "cell_type": "code",
      "source": [
        "Cursor.execute( \"SELECT * FROM Clientes\").fetchall()\n"
      ],
      "metadata": {
        "colab": {
          "base_uri": "https://localhost:8080/"
        },
        "id": "uBu-divZ6IOi",
        "outputId": "e7074cc0-c7e9-4e92-9bd0-a6b82c81bad4"
      },
      "execution_count": null,
      "outputs": [
        {
          "output_type": "execute_result",
          "data": {
            "text/plain": [
              "[(1, 'Odemir', 'Depieri', 30), (3, 'Odete', 'Cabral', 85)]"
            ]
          },
          "metadata": {},
          "execution_count": 55
        }
      ]
    },
    {
      "cell_type": "code",
      "source": [
        "Cursor.execute(\"INSERT INTO Clientes VALUES (4, 'Ju', 'Simao', 54)\")"
      ],
      "metadata": {
        "colab": {
          "base_uri": "https://localhost:8080/"
        },
        "id": "e3tUHoSO6OF4",
        "outputId": "8b7c0fdf-1135-4c9b-cfc5-2b4a3060e7b7"
      },
      "execution_count": null,
      "outputs": [
        {
          "output_type": "execute_result",
          "data": {
            "text/plain": [
              "<sqlite3.Cursor at 0x7fb33cdb0ab0>"
            ]
          },
          "metadata": {},
          "execution_count": 65
        }
      ]
    },
    {
      "cell_type": "code",
      "source": [
        "Cursor.execute(\"SELECT * FROM Clientes\").fetchall()"
      ],
      "metadata": {
        "colab": {
          "base_uri": "https://localhost:8080/"
        },
        "id": "B7uLSxrc6jgD",
        "outputId": "778b1ebc-23cf-46ae-fa06-4850ea69c11b"
      },
      "execution_count": null,
      "outputs": [
        {
          "output_type": "execute_result",
          "data": {
            "text/plain": [
              "[(1, 'Odemir', 'Depieri', 30),\n",
              " (3, 'Odete', 'Cabral', 85),\n",
              " (2, 'Odete', 'Cabral', 85),\n",
              " (4, 'Ju', 'Simao', 54)]"
            ]
          },
          "metadata": {},
          "execution_count": 66
        }
      ]
    },
    {
      "cell_type": "code",
      "source": [
        "# A partir daqui eu tento arrumar o resultado desta query, \n",
        "#pois Odete apareceu duas vezes. \n",
        "#Quero excluir o Odemir e deixar apenas Ju e Odete. \n",
        "Consulta = Cursor.execute(\n",
        "'''\n",
        "DELETE from Clientes \n",
        "WHERE nome = 'Odete'\n",
        "'''\n",
        ").fetchall()"
      ],
      "metadata": {
        "id": "BIcFVz9_7Mm9"
      },
      "execution_count": null,
      "outputs": []
    },
    {
      "cell_type": "code",
      "source": [
        "Cursor.execute(\n",
        "    '''\n",
        "    SELECT * from Clientes\n",
        "    '''\n",
        ").fetchall()"
      ],
      "metadata": {
        "colab": {
          "base_uri": "https://localhost:8080/"
        },
        "id": "M0kPXOQC7bXc",
        "outputId": "15bad781-a14d-418d-a7b1-8d2f773b00d0"
      },
      "execution_count": null,
      "outputs": [
        {
          "output_type": "execute_result",
          "data": {
            "text/plain": [
              "[(1, 'Odemir', 'Depieri', 30), (4, 'Ju', 'Simao', 54)]"
            ]
          },
          "metadata": {},
          "execution_count": 70
        }
      ]
    },
    {
      "cell_type": "code",
      "source": [
        "Consulta = Cursor.execute(\n",
        "'''\n",
        "DELETE from Clientes \n",
        "WHERE nome = 'Odemir' \n",
        "'''\n",
        ").fetchall()"
      ],
      "metadata": {
        "id": "O1MMjKnC7mNH"
      },
      "execution_count": null,
      "outputs": []
    },
    {
      "cell_type": "code",
      "source": [
        "Consulta = Cursor.execute(\n",
        "'''\n",
        "DELETE from Clientes \n",
        "WHERE nome = 'Ju'\n",
        "'''\n",
        ").fetchall()"
      ],
      "metadata": {
        "id": "Mo-IE-Qx79iz"
      },
      "execution_count": null,
      "outputs": []
    },
    {
      "cell_type": "code",
      "source": [
        "Cursor.execute(\n",
        "    '''\n",
        "    SELECT * FROM Clientes\n",
        "    '''\n",
        ").fetchall()"
      ],
      "metadata": {
        "colab": {
          "base_uri": "https://localhost:8080/"
        },
        "id": "Nwra4sJz70yD",
        "outputId": "37ea25a0-5102-4f4e-d171-a7d46f26d837"
      },
      "execution_count": null,
      "outputs": [
        {
          "output_type": "execute_result",
          "data": {
            "text/plain": [
              "[]"
            ]
          },
          "metadata": {},
          "execution_count": 77
        }
      ]
    },
    {
      "cell_type": "code",
      "source": [
        "Cursor.execute(\"INSERT INTO Clientes VALUES (1, 'Odete', 'Cabral',  30)\")\n"
      ],
      "metadata": {
        "colab": {
          "base_uri": "https://localhost:8080/"
        },
        "id": "hl2VX6M58G6D",
        "outputId": "af4e6be3-abe6-4a50-d07a-931f5a8c966d"
      },
      "execution_count": null,
      "outputs": [
        {
          "output_type": "execute_result",
          "data": {
            "text/plain": [
              "<sqlite3.Cursor at 0x7fb33cdb0ab0>"
            ]
          },
          "metadata": {},
          "execution_count": 78
        }
      ]
    },
    {
      "cell_type": "code",
      "source": [
        "Cursor.execute(\"INSERT INTO Clientes VALUES (2, 'Ju', 'Cabral',  54)\")\n"
      ],
      "metadata": {
        "colab": {
          "base_uri": "https://localhost:8080/"
        },
        "id": "KDIUTh7L8O3O",
        "outputId": "6e895883-c1fd-407e-be18-0437d20c98f1"
      },
      "execution_count": null,
      "outputs": [
        {
          "output_type": "execute_result",
          "data": {
            "text/plain": [
              "<sqlite3.Cursor at 0x7fb33cdb0ab0>"
            ]
          },
          "metadata": {},
          "execution_count": 79
        }
      ]
    },
    {
      "cell_type": "code",
      "source": [
        "Cursor.execute(\n",
        "    '''\n",
        "    SELECT * FROM Clientes\n",
        "    '''\n",
        ").fetchall()"
      ],
      "metadata": {
        "colab": {
          "base_uri": "https://localhost:8080/"
        },
        "id": "voVjAo2f8SyH",
        "outputId": "270d3a99-c683-4d71-dd8a-d189518a7c79"
      },
      "execution_count": null,
      "outputs": [
        {
          "output_type": "execute_result",
          "data": {
            "text/plain": [
              "[(1, 'Odete', 'Cabral', 30), (2, 'Ju', 'Cabral', 54)]"
            ]
          },
          "metadata": {},
          "execution_count": 80
        }
      ]
    },
    {
      "cell_type": "markdown",
      "source": [
        "##CHAVE ESTRANGEIRA É UM CAMPO (OU VÁRIOS CAMPOS) EM UMA TABELA, QUE SE REFERE À PRIMARY KEY EM OUTRA TABELA **(FOREIGN KEY)**"
      ],
      "metadata": {
        "id": "Ed_Fg7kZ-9jR"
      }
    },
    {
      "cell_type": "code",
      "source": [
        "Query = '''\n",
        "CREATE TABLE Solicitacoes (\n",
        "    ID int NOT NULL,\n",
        "    Numero int NOT NULL,\n",
        "    IDCliente int,\n",
        "    PRIMARY KEY (ID),\n",
        "    FOREIGN KEY (IDCliente) REFERENCES Persons(IDCliente)\n",
        ")\n",
        "'''\n",
        "\n",
        "Consulta = Cursor.execute( Query )\n",
        "\n",
        "Conexao.commit()"
      ],
      "metadata": {
        "id": "AbaFGvqiAyaS"
      },
      "execution_count": null,
      "outputs": []
    },
    {
      "cell_type": "code",
      "source": [
        "Cursor.execute(\"INSERT INTO Solicitacoes VALUES (1, 1000, 1)\")"
      ],
      "metadata": {
        "colab": {
          "base_uri": "https://localhost:8080/"
        },
        "id": "xgXDbpzAJr45",
        "outputId": "3327f31b-5317-4034-e65b-674514502203"
      },
      "execution_count": null,
      "outputs": [
        {
          "output_type": "execute_result",
          "data": {
            "text/plain": [
              "<sqlite3.Cursor at 0x7fb33cdb0ab0>"
            ]
          },
          "metadata": {},
          "execution_count": 84
        }
      ]
    },
    {
      "cell_type": "code",
      "source": [
        "Cursor.execute(\"SELECT * FROM Solicitacoes\").fetchall()"
      ],
      "metadata": {
        "colab": {
          "base_uri": "https://localhost:8080/"
        },
        "id": "Oy4Q7t-WJ542",
        "outputId": "1d7b51da-f7b5-456e-ad2d-399615e03a41"
      },
      "execution_count": null,
      "outputs": [
        {
          "output_type": "execute_result",
          "data": {
            "text/plain": [
              "[(1, 1000, 1)]"
            ]
          },
          "metadata": {},
          "execution_count": 85
        }
      ]
    }
  ]
}