{
  "nbformat": 4,
  "nbformat_minor": 0,
  "metadata": {
    "colab": {
      "provenance": [],
      "authorship_tag": "ABX9TyOFArNGz63icwZl8Nc7crMX",
      "include_colab_link": true
    },
    "kernelspec": {
      "name": "python3",
      "display_name": "Python 3"
    },
    "language_info": {
      "name": "python"
    }
  },
  "cells": [
    {
      "cell_type": "markdown",
      "metadata": {
        "id": "view-in-github",
        "colab_type": "text"
      },
      "source": [
        "<a href=\"https://colab.research.google.com/github/cabralana/training_python_with_sql/blob/main/Training_Python_with_SQL.ipynb\" target=\"_parent\"><img src=\"https://colab.research.google.com/assets/colab-badge.svg\" alt=\"Open In Colab\"/></a>"
      ]
    },
    {
      "cell_type": "markdown",
      "source": [
        "###**SQL - Revisão de Conhecimentos**"
      ],
      "metadata": {
        "id": "THAZIeCAgTM5"
      }
    },
    {
      "cell_type": "markdown",
      "source": [
        "### IMPORTAR **SQL** NO GOOGLE COLAB"
      ],
      "metadata": {
        "id": "c-8o1pkZSprx"
      }
    },
    {
      "cell_type": "code",
      "execution_count": null,
      "metadata": {
        "id": "ClBHNOStKfKY"
      },
      "outputs": [],
      "source": [
        "import sqlite3"
      ]
    },
    {
      "cell_type": "code",
      "source": [
        "#Python Version\n",
        "from platform import python_version\n",
        "\n",
        "print(python_version())"
      ],
      "metadata": {
        "colab": {
          "base_uri": "https://localhost:8080/"
        },
        "id": "r8z0JAkUK1BU",
        "outputId": "ea93c29c-cb82-4cdb-bff3-0e792a314195"
      },
      "execution_count": null,
      "outputs": [
        {
          "output_type": "stream",
          "name": "stdout",
          "text": [
            "3.7.15\n"
          ]
        }
      ]
    },
    {
      "cell_type": "markdown",
      "source": [
        "#Criação BD"
      ],
      "metadata": {
        "id": "CwY2IFyOTLwS"
      }
    },
    {
      "cell_type": "code",
      "source": [
        "Conexao = sqlite3.connect('Banco_Dados')"
      ],
      "metadata": {
        "id": "8bhPGMvlK4ca"
      },
      "execution_count": null,
      "outputs": []
    },
    {
      "cell_type": "markdown",
      "source": [
        "#Apontar para o BD"
      ],
      "metadata": {
        "id": "PYLIcxGDTPYH"
      }
    },
    {
      "cell_type": "code",
      "source": [
        "Cursor = Conexao.cursor()"
      ],
      "metadata": {
        "id": "956QpUhPK9pU"
      },
      "execution_count": null,
      "outputs": []
    },
    {
      "cell_type": "markdown",
      "source": [
        "###CRIAR TABELA **(CREATE TABLE)**\n",
        "\n",
        "CREATE TABLE table_name(column1 datatype, column2 datatype, column3 datatype, ...)"
      ],
      "metadata": {
        "id": "JiQCB069TU5w"
      }
    },
    {
      "cell_type": "code",
      "source": [
        "Cursor.execute(\n",
        "    'CREATE TABLE Minha_Primeira_Tabela (Nome text, Data text, Idade real)'\n",
        ")\n",
        "Conexao.commit()"
      ],
      "metadata": {
        "colab": {
          "base_uri": "https://localhost:8080/",
          "height": 217
        },
        "id": "Eu_Lek30LEaD",
        "outputId": "1edbb7ad-9fd4-47f4-c826-dbf3a72ec370"
      },
      "execution_count": null,
      "outputs": [
        {
          "output_type": "error",
          "ename": "OperationalError",
          "evalue": "ignored",
          "traceback": [
            "\u001b[0;31m---------------------------------------------------------------------------\u001b[0m",
            "\u001b[0;31mOperationalError\u001b[0m                          Traceback (most recent call last)",
            "\u001b[0;32m<ipython-input-37-be8a9e3301c1>\u001b[0m in \u001b[0;36m<module>\u001b[0;34m\u001b[0m\n\u001b[1;32m      1\u001b[0m Cursor.execute(\n\u001b[0;32m----> 2\u001b[0;31m     \u001b[0;34m'CREATE TABLE Minha_Primeira_Tabela (Nome text, Data text, Idade real)'\u001b[0m\u001b[0;34m\u001b[0m\u001b[0;34m\u001b[0m\u001b[0m\n\u001b[0m\u001b[1;32m      3\u001b[0m )\n\u001b[1;32m      4\u001b[0m \u001b[0mConexao\u001b[0m\u001b[0;34m.\u001b[0m\u001b[0mcommit\u001b[0m\u001b[0;34m(\u001b[0m\u001b[0;34m)\u001b[0m\u001b[0;34m\u001b[0m\u001b[0;34m\u001b[0m\u001b[0m\n",
            "\u001b[0;31mOperationalError\u001b[0m: table Minha_Primeira_Tabela already exists"
          ]
        }
      ]
    },
    {
      "cell_type": "markdown",
      "source": [
        "###INSERIR REGISTROS NA TABELA **(INSERT INTO)**\n",
        "\n",
        "INSERT INTO table_name(column1, column2, column3, ...)"
      ],
      "metadata": {
        "id": "owkrR1eKT87H"
      }
    },
    {
      "cell_type": "code",
      "source": [
        "Cursor.execute('INSERT INTO Minha_Primeira_Tabela VALUES (\"Ana Paula\", \"30/09/1993\", \"29\")')"
      ],
      "metadata": {
        "colab": {
          "base_uri": "https://localhost:8080/"
        },
        "id": "HVV-BBE-LVaE",
        "outputId": "e1124765-3e06-4537-f17f-d9073f428a2e"
      },
      "execution_count": null,
      "outputs": [
        {
          "output_type": "execute_result",
          "data": {
            "text/plain": [
              "<sqlite3.Cursor at 0x7f747fdbbe30>"
            ]
          },
          "metadata": {},
          "execution_count": 7
        }
      ]
    },
    {
      "cell_type": "code",
      "source": [
        "Cursor.execute('INSERT INTO Minha_Primeira_Tabela VALUES (\"Priscila\", \"26/11/1992\", \"30\")')"
      ],
      "metadata": {
        "colab": {
          "base_uri": "https://localhost:8080/"
        },
        "id": "xDnRl9lmLrOC",
        "outputId": "d5d8a7f6-dca1-4017-e1bc-49f080ee1395"
      },
      "execution_count": null,
      "outputs": [
        {
          "output_type": "execute_result",
          "data": {
            "text/plain": [
              "<sqlite3.Cursor at 0x7f747fdbbe30>"
            ]
          },
          "metadata": {},
          "execution_count": 8
        }
      ]
    },
    {
      "cell_type": "code",
      "source": [
        "#Importando números aleatórios\n",
        "import random "
      ],
      "metadata": {
        "id": "ArNw5MszL1Rp"
      },
      "execution_count": null,
      "outputs": []
    },
    {
      "cell_type": "code",
      "source": [
        "\n",
        "for Loop in range(10):\n",
        "  \n",
        "\n",
        "  Numero = random.randint(10, 20)\n",
        " \n",
        "  Cursor.execute( f' INSERT INTO Minha_Primeira_Tabela VALUES ( \"26/11/1992\", \"Priscila\", {Numero} ) ')"
      ],
      "metadata": {
        "id": "AWoasv02Oz7D"
      },
      "execution_count": null,
      "outputs": []
    },
    {
      "cell_type": "markdown",
      "source": [
        "###SELECIONAR DADOS EM UM BD **(SELECT)**"
      ],
      "metadata": {
        "id": "pkvNPv49UY8_"
      }
    },
    {
      "cell_type": "code",
      "source": [
        "#Consulta com SELECT * - todos os registros da tabela\n",
        "Consulta = Cursor.execute('SELECT * FROM Minha_Primeira_Tabela').fetchall()\n",
        "print (Consulta)"
      ],
      "metadata": {
        "colab": {
          "base_uri": "https://localhost:8080/"
        },
        "id": "dPfVmlQsPALR",
        "outputId": "31143774-5a23-491d-af44-f6fbd8111a06"
      },
      "execution_count": null,
      "outputs": [
        {
          "output_type": "stream",
          "name": "stdout",
          "text": [
            "[('Ana Paula', '30/09/1993', 29.0), ('Priscila', '26/11/1992', 30.0), ('26/11/1992', 'Priscila', 16.0), ('26/11/1992', 'Priscila', 13.0), ('26/11/1992', 'Priscila', 16.0), ('26/11/1992', 'Priscila', 14.0), ('26/11/1992', 'Priscila', 19.0), ('26/11/1992', 'Priscila', 15.0), ('26/11/1992', 'Priscila', 12.0), ('26/11/1992', 'Priscila', 16.0), ('26/11/1992', 'Priscila', 10.0), ('26/11/1992', 'Priscila', 14.0)]\n"
          ]
        }
      ]
    },
    {
      "cell_type": "code",
      "source": [
        "#Consulta com SELECT columns1, columns2, columns3... - registros específicos\n",
        "Consulta = Cursor.execute('SELECT Nome, Data, Idade FROM Minha_Primeira_Tabela').fetchall()\n",
        "\n",
        "for Linha in Consulta: \n",
        "  print(Linha)"
      ],
      "metadata": {
        "colab": {
          "base_uri": "https://localhost:8080/"
        },
        "id": "lWKCIg_gPVXB",
        "outputId": "d87c8605-3704-4432-848b-1ba550eab06c"
      },
      "execution_count": null,
      "outputs": [
        {
          "output_type": "stream",
          "name": "stdout",
          "text": [
            "('Ana Paula', '30/09/1993', 29.0)\n",
            "('Priscila', '26/11/1992', 30.0)\n",
            "('26/11/1992', 'Priscila', 16.0)\n",
            "('26/11/1992', 'Priscila', 13.0)\n",
            "('26/11/1992', 'Priscila', 16.0)\n",
            "('26/11/1992', 'Priscila', 14.0)\n",
            "('26/11/1992', 'Priscila', 19.0)\n",
            "('26/11/1992', 'Priscila', 15.0)\n",
            "('26/11/1992', 'Priscila', 12.0)\n",
            "('26/11/1992', 'Priscila', 16.0)\n",
            "('26/11/1992', 'Priscila', 10.0)\n",
            "('26/11/1992', 'Priscila', 14.0)\n"
          ]
        }
      ]
    },
    {
      "cell_type": "markdown",
      "source": [
        "###FILTRAR REGISTROS **(WHERE)**\n",
        "\n",
        "SELECT column1 FROM table_name WHERE condition;\n",
        "\n"
      ],
      "metadata": {
        "id": "adG9AJ0bU5mv"
      }
    },
    {
      "cell_type": "code",
      "source": [
        "Consulta = Cursor.execute(\n",
        "    '''\n",
        "    SELECT * FROM Minha_Primeira_Tabela\n",
        "    WHERE Idade = '29'\n",
        "    '''\n",
        ").fetchall()\n",
        "print(Consulta)"
      ],
      "metadata": {
        "colab": {
          "base_uri": "https://localhost:8080/"
        },
        "id": "0pMvRAmMVQp_",
        "outputId": "c549bb5f-cf67-4a2a-ceaa-cd92532d3bf5"
      },
      "execution_count": null,
      "outputs": [
        {
          "output_type": "stream",
          "name": "stdout",
          "text": [
            "[('Ana Paula', '30/09/1993', 29.0)]\n"
          ]
        }
      ]
    },
    {
      "cell_type": "code",
      "source": [
        "Consulta = Cursor.execute(\n",
        "    '''\n",
        "    SELECT * FROM Minha_Primeira_Tabela \n",
        "    WHERE Idade > 23\n",
        "    '''\n",
        ").fetchall()\n",
        "\n",
        "print(Consulta)"
      ],
      "metadata": {
        "colab": {
          "base_uri": "https://localhost:8080/"
        },
        "id": "BWs_OuNZVfJy",
        "outputId": "26316f7e-95c0-4e41-8668-625d260588b0"
      },
      "execution_count": null,
      "outputs": [
        {
          "output_type": "stream",
          "name": "stdout",
          "text": [
            "[('Ana Paula', '30/09/1993', 29.0), ('Priscila', '26/11/1992', 30.0)]\n"
          ]
        }
      ]
    },
    {
      "cell_type": "code",
      "source": [
        "Consulta = Cursor.execute(\n",
        "    '''\n",
        "    SELECT * FROM Minha_Primeira_Tabela \n",
        "    WHERE Idade < 23\n",
        "    '''\n",
        ").fetchall()\n",
        "\n",
        "print(Consulta)"
      ],
      "metadata": {
        "colab": {
          "base_uri": "https://localhost:8080/"
        },
        "id": "FZ1gmXLYaIb4",
        "outputId": "208d7d6a-6106-4e57-85f0-241fb226e13c"
      },
      "execution_count": null,
      "outputs": [
        {
          "output_type": "stream",
          "name": "stdout",
          "text": [
            "[('26/11/1992', 'Priscila', 16.0), ('26/11/1992', 'Priscila', 13.0), ('26/11/1992', 'Priscila', 16.0), ('26/11/1992', 'Priscila', 14.0), ('26/11/1992', 'Priscila', 19.0), ('26/11/1992', 'Priscila', 15.0), ('26/11/1992', 'Priscila', 12.0), ('26/11/1992', 'Priscila', 16.0), ('26/11/1992', 'Priscila', 10.0), ('26/11/1992', 'Priscila', 14.0)]\n"
          ]
        }
      ]
    },
    {
      "cell_type": "code",
      "source": [
        "Consulta = Cursor.execute(\n",
        "    '''\n",
        "    SELECT * FROM Minha_Primeira_Tabela \n",
        "    WHERE Idade <= 23\n",
        "    '''\n",
        ").fetchall()\n",
        "\n",
        "print(Consulta)"
      ],
      "metadata": {
        "colab": {
          "base_uri": "https://localhost:8080/"
        },
        "id": "PYxOIrtJaPq3",
        "outputId": "96ec9df5-5328-4530-c8e3-196fe94bf91d"
      },
      "execution_count": null,
      "outputs": [
        {
          "output_type": "stream",
          "name": "stdout",
          "text": [
            "[('26/11/1992', 'Priscila', 16.0), ('26/11/1992', 'Priscila', 13.0), ('26/11/1992', 'Priscila', 16.0), ('26/11/1992', 'Priscila', 14.0), ('26/11/1992', 'Priscila', 19.0), ('26/11/1992', 'Priscila', 15.0), ('26/11/1992', 'Priscila', 12.0), ('26/11/1992', 'Priscila', 16.0), ('26/11/1992', 'Priscila', 10.0), ('26/11/1992', 'Priscila', 14.0)]\n"
          ]
        }
      ]
    },
    {
      "cell_type": "code",
      "source": [
        "Consulta = Cursor.execute(\n",
        "    '''\n",
        "    SELECT * FROM Minha_Primeira_Tabela \n",
        "    WHERE Nome <> 'Ana Paula'\n",
        "    '''\n",
        ").fetchall()\n",
        "\n",
        "for Linha in Consulta:\n",
        "  print( Linha )"
      ],
      "metadata": {
        "colab": {
          "base_uri": "https://localhost:8080/"
        },
        "id": "mezRVc9AaTaf",
        "outputId": "2c29999d-faf3-4697-ffac-2f89cc1b88ea"
      },
      "execution_count": null,
      "outputs": [
        {
          "output_type": "stream",
          "name": "stdout",
          "text": [
            "('Priscila', '26/11/1992', 30.0)\n",
            "('26/11/1992', 'Priscila', 16.0)\n",
            "('26/11/1992', 'Priscila', 13.0)\n",
            "('26/11/1992', 'Priscila', 16.0)\n",
            "('26/11/1992', 'Priscila', 14.0)\n",
            "('26/11/1992', 'Priscila', 19.0)\n",
            "('26/11/1992', 'Priscila', 15.0)\n",
            "('26/11/1992', 'Priscila', 12.0)\n",
            "('26/11/1992', 'Priscila', 16.0)\n",
            "('26/11/1992', 'Priscila', 10.0)\n",
            "('26/11/1992', 'Priscila', 14.0)\n"
          ]
        }
      ]
    },
    {
      "cell_type": "markdown",
      "source": [
        "###SELECIONAR DETERMINADO RANGE DE REGISTROS EM UMA TABELA **(BETWEEN)**"
      ],
      "metadata": {
        "id": "GspNU5mqfER4"
      }
    },
    {
      "cell_type": "code",
      "source": [
        "Consulta = Cursor.execute(\n",
        "    '''\n",
        "    SELECT * FROM Minha_Primeira_Tabela\n",
        "    WHERE Idade BETWEEN 20 AND 30\n",
        "    '''\n",
        ").fetchall()\n",
        "\n",
        "for Linha in Consulta:\n",
        "  print ( Linha )"
      ],
      "metadata": {
        "colab": {
          "base_uri": "https://localhost:8080/"
        },
        "id": "N_qcluUeaYQW",
        "outputId": "ea31e118-c01f-4991-a3bf-ec4bba068a4b"
      },
      "execution_count": null,
      "outputs": [
        {
          "output_type": "stream",
          "name": "stdout",
          "text": [
            "('Ana Paula', '30/09/1993', 29.0)\n",
            "('Priscila', '26/11/1992', 30.0)\n"
          ]
        }
      ]
    },
    {
      "cell_type": "markdown",
      "source": [
        "###PARA PROCURAR UM PADRÃO ESPECÍFICO EM UMA COLUNA, USA-SE O **(LIKE)** EM UMA WHERE \n",
        "\n",
        "\n",
        "\n",
        "\n",
        "*   % - representa zero, um ou vários caracteres\n",
        "*   _ - um único caractere \n",
        "\n",
        "\n",
        "\n"
      ],
      "metadata": {
        "id": "8ro7rlOegcpQ"
      }
    },
    {
      "cell_type": "code",
      "source": [
        "Consulta = Cursor.execute(\n",
        "  '''\n",
        "  SELECT * FROM Minha_Primeira_Tabela\n",
        "  WHERE Nome LIKE 'A%' \n",
        "  '''\n",
        ").fetchall()\n",
        "\n",
        "for Linha in Consulta:\n",
        "  print(Linha)\n",
        "\n",
        "  #que comece com a letra A"
      ],
      "metadata": {
        "colab": {
          "base_uri": "https://localhost:8080/"
        },
        "id": "ZyZ2wNNGgQDA",
        "outputId": "85b0a00c-bc5b-4cca-e27a-0f73ca909124"
      },
      "execution_count": null,
      "outputs": [
        {
          "output_type": "stream",
          "name": "stdout",
          "text": [
            "('Ana Paula', '30/09/1993', 29.0)\n"
          ]
        }
      ]
    },
    {
      "cell_type": "code",
      "source": [
        "Consulta = Cursor.execute(\n",
        "  '''\n",
        "  SELECT * FROM Minha_Primeira_Tabela\n",
        "  WHERE Nome LIKE '%A' \n",
        "  '''\n",
        ").fetchall()\n",
        "\n",
        "for Linha in Consulta:\n",
        "  print(Linha)\n",
        "\n",
        "  #que termine com a letra A\n"
      ],
      "metadata": {
        "colab": {
          "base_uri": "https://localhost:8080/"
        },
        "id": "kqRMX0b2gSHP",
        "outputId": "e0be24da-3cf5-4d0a-f2ef-4981b5c780c4"
      },
      "execution_count": null,
      "outputs": [
        {
          "output_type": "stream",
          "name": "stdout",
          "text": [
            "('Ana Paula', '30/09/1993', 29.0)\n",
            "('Priscila', '26/11/1992', 30.0)\n"
          ]
        }
      ]
    },
    {
      "cell_type": "code",
      "source": [
        "Consulta = Cursor.execute(\n",
        "  '''\n",
        "  SELECT * FROM Minha_Primeira_Tabela\n",
        "  WHERE Nome LIKE '%scil%' \n",
        "  '''\n",
        ").fetchall()\n",
        "\n",
        "for Linha in Consulta:\n",
        "  print(Linha)\n",
        "\n",
        "  #que tenha o padrão"
      ],
      "metadata": {
        "colab": {
          "base_uri": "https://localhost:8080/"
        },
        "id": "QFKaDhiaKHUN",
        "outputId": "62f56312-29d8-48d3-f317-0a5b813b730f"
      },
      "execution_count": null,
      "outputs": [
        {
          "output_type": "stream",
          "name": "stdout",
          "text": [
            "('Priscila', '26/11/1992', 30.0)\n"
          ]
        }
      ]
    },
    {
      "cell_type": "markdown",
      "source": [
        "###PERMITE ESPECIFICAR VÁRIOS VALORES EM UMA WHERE **(IN)**"
      ],
      "metadata": {
        "id": "0CsD_RDHKU54"
      }
    },
    {
      "cell_type": "code",
      "source": [
        "Consulta = Cursor.execute(\n",
        "    '''\n",
        "    SELECT * FROM Minha_Primeira_Tabela\n",
        "    WHERE Idade IN (15,18,21,24,27,30)\n",
        "    '''\n",
        ").fetchall()\n",
        "\n",
        "for Linha in Consulta:\n",
        "  print(Linha)"
      ],
      "metadata": {
        "colab": {
          "base_uri": "https://localhost:8080/"
        },
        "id": "FnoXqT90KfsK",
        "outputId": "077b483e-29de-4345-8d18-e8e4ab7b1f20"
      },
      "execution_count": null,
      "outputs": [
        {
          "output_type": "stream",
          "name": "stdout",
          "text": [
            "('Priscila', '26/11/1992', 30.0)\n",
            "('26/11/1992', 'Priscila', 15.0)\n"
          ]
        }
      ]
    },
    {
      "cell_type": "code",
      "source": [
        "Consulta = Cursor.execute(\n",
        "    '''\n",
        "    SELECT * FROM Minha_Primeira_Tabela\n",
        "    WHERE Idade IN (\"Ana Paula\")\n",
        "    '''\n",
        ").fetchall()\n",
        "\n",
        "for Linha in Consulta:\n",
        "  print(Linha)"
      ],
      "metadata": {
        "id": "pVnu_MvRKSeh"
      },
      "execution_count": null,
      "outputs": []
    }
  ]
}